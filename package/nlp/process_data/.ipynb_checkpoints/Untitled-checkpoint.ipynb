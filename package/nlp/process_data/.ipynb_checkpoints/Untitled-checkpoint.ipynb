{
 "cells": [
  {
   "cell_type": "markdown",
   "id": "58842cf8",
   "metadata": {},
   "source": [
    "# Process Data"
   ]
  },
  {
   "cell_type": "code",
   "execution_count": 190,
   "id": "9d12d80c",
   "metadata": {},
   "outputs": [
    {
     "name": "stderr",
     "output_type": "stream",
     "text": [
      "[nltk_data] Downloading package stopwords to\n",
      "[nltk_data]     C:\\Users\\GUEGUEN\\AppData\\Roaming\\nltk_data...\n",
      "[nltk_data]   Package stopwords is already up-to-date!\n"
     ]
    }
   ],
   "source": [
    "import pandas as pd\n",
    "import re\n",
    "import string\n",
    "import numpy as np\n",
    "import random\n",
    "import matplotlib.pyplot as plt\n",
    "\n",
    "from collections import Counter\n",
    "\n",
    "import nltk\n",
    "from os import getcwd\n",
    "\n",
    "nltk.download('stopwords')\n",
    "\n",
    "from nltk.corpus import stopwords\n",
    "from nltk.stem import PorterStemmer\n",
    "from nltk.tokenize import TweetTokenizer"
   ]
  },
  {
   "cell_type": "code",
   "execution_count": 191,
   "id": "37a10322",
   "metadata": {},
   "outputs": [
    {
     "name": "stdout",
     "output_type": "stream",
     "text": [
      "J'ai bu 245 ml de gin et 100 ml de Liqeur de café et 350 ml de gan  200 ml de gni et 455 kg de ligheur\n"
     ]
    }
   ],
   "source": [
    "with open(\"Test1.txt\", \"r\") as file1:\n",
    "    FileContent = file1.read() + \" 200 ml de gni et 455 kg de ligheur\"\n",
    "    print(FileContent)"
   ]
  },
  {
   "cell_type": "code",
   "execution_count": 192,
   "id": "ce481343",
   "metadata": {},
   "outputs": [],
   "source": [
    "def process_tweet(sentence):\n",
    "    \"\"\"Process tweet function.\n",
    "    Input:\n",
    "        tweet: a string containing a tweet\n",
    "    Output:\n",
    "        tweets_clean: a list of words containing the processed tweet\n",
    "\n",
    "    \"\"\"\n",
    "    sentence = sentence.lower()\n",
    "    stopwords_french = stopwords.words('french')\n",
    "    # remove stock market tickers like $GE\n",
    "    sentence = re.sub(r'\\$\\w*', '', sentence)\n",
    "    # remove old style retweet text \"RT\"\n",
    "    sentence = re.sub(r'^RT[\\s]+', '', sentence)\n",
    "    # remove hyperlinks    \n",
    "    sentence = re.sub(r'https?://[^\\s\\n\\r]+', '', sentence)\n",
    "    # remove hashtags\n",
    "    # only removing the hash # sign from the word\n",
    "    sentence = re.sub(r'#', '', sentence)\n",
    "    # Suppression des apostrophes\n",
    "    sentence = re.sub(r'\\'', ' ', sentence) \n",
    "    # tokenize sentence\n",
    "    tokenizer = TweetTokenizer(preserve_case=False, strip_handles=True,\n",
    "                               reduce_len=True)\n",
    "    sentence_tokens = tokenizer.tokenize(sentence)\n",
    "    \n",
    "\n",
    "    sentence_clean = []\n",
    "    for word in sentence_tokens:\n",
    "        if (word not in stopwords_french and word not in string.punctuation):  # remove punctuation\n",
    "            # tweets_clean.append(word)\n",
    "            sentence_clean.append(word)\n",
    "            \n",
    "    return sentence_clean"
   ]
  },
  {
   "cell_type": "code",
   "execution_count": 193,
   "id": "07052040",
   "metadata": {},
   "outputs": [
    {
     "data": {
      "text/plain": [
       "['bu',\n",
       " '245',\n",
       " 'ml',\n",
       " 'gin',\n",
       " '100',\n",
       " 'ml',\n",
       " 'liqeur',\n",
       " 'café',\n",
       " '350',\n",
       " 'ml',\n",
       " 'gan',\n",
       " '200',\n",
       " 'ml',\n",
       " 'gni',\n",
       " '455',\n",
       " 'kg',\n",
       " 'ligheur']"
      ]
     },
     "execution_count": 193,
     "metadata": {},
     "output_type": "execute_result"
    }
   ],
   "source": [
    "M = process_tweet(FileContent)\n",
    "M"
   ]
  },
  {
   "cell_type": "markdown",
   "id": "04710ac8",
   "metadata": {},
   "source": [
    "# Autocorrect"
   ]
  },
  {
   "cell_type": "code",
   "execution_count": 194,
   "id": "6ff31358",
   "metadata": {},
   "outputs": [],
   "source": [
    "df = pd.read_csv(r\"C:\\Users\\GUEGUEN\\Desktop\\WSApp\\tracker_alimentaire\\package\\nlp\\data_base\\processed_aliment.csv\")\n",
    "vocab = df[\"word\"]"
   ]
  },
  {
   "cell_type": "code",
   "execution_count": 195,
   "id": "a2ffa867",
   "metadata": {},
   "outputs": [
    {
     "ename": "NameError",
     "evalue": "name 'books_df' is not defined",
     "output_type": "error",
     "traceback": [
      "\u001b[1;31m---------------------------------------------------------------------------\u001b[0m",
      "\u001b[1;31mNameError\u001b[0m                                 Traceback (most recent call last)",
      "Input \u001b[1;32mIn [195]\u001b[0m, in \u001b[0;36m<cell line: 50>\u001b[1;34m()\u001b[0m\n\u001b[0;32m     47\u001b[0m                 \u001b[38;5;28;01mreturn\u001b[39;00m \u001b[38;5;28;01mTrue\u001b[39;00m\n\u001b[0;32m     48\u001b[0m     \u001b[38;5;28;01mreturn\u001b[39;00m \u001b[38;5;28;01mFalse\u001b[39;00m\n\u001b[1;32m---> 50\u001b[0m books_df[\u001b[38;5;124m'\u001b[39m\u001b[38;5;124mhas_similar\u001b[39m\u001b[38;5;124m'\u001b[39m] \u001b[38;5;241m=\u001b[39m \u001b[43mbooks_df\u001b[49m[\u001b[38;5;124m'\u001b[39m\u001b[38;5;124mauthors_list\u001b[39m\u001b[38;5;124m'\u001b[39m]\u001b[38;5;241m.\u001b[39mapply(has_similar_authors)\n\u001b[0;32m     52\u001b[0m similar_authors_df \u001b[38;5;241m=\u001b[39m books_df[books_df[\u001b[38;5;124m'\u001b[39m\u001b[38;5;124mhas_similar\u001b[39m\u001b[38;5;124m'\u001b[39m] \u001b[38;5;241m==\u001b[39m \u001b[38;5;28;01mTrue\u001b[39;00m]\n\u001b[0;32m     54\u001b[0m \u001b[38;5;28mprint\u001b[39m(\u001b[38;5;28mlen\u001b[39m(similar_authors_df))\n",
      "\u001b[1;31mNameError\u001b[0m: name 'books_df' is not defined"
     ]
    }
   ],
   "source": [
    "def levenshtein_distance(s1, s2):\n",
    "    if len(s1) > len(s2):\n",
    "        s1, s2 = s2, s1\n",
    "\n",
    "    distances = range(len(s1) + 1)\n",
    "    for index2, char2 in enumerate(s2):\n",
    "        new_distances = [index2 + 1]\n",
    "        for index1, char1 in enumerate(s1):\n",
    "            if char1 == char2:\n",
    "                new_distances.append(distances[index1])\n",
    "            else:\n",
    "                new_distances.append(1 + min((distances[index1], distances[index1 + 1], new_distances[-1])))\n",
    "        distances = new_distances\n",
    "\n",
    "    return distances[-1]\n",
    "\n",
    "def similar_names(name1, name2, threshold=0.84):\n",
    "    \"\"\"\n",
    "    Compare two names and determine if they are similar using the Levenshtein distance.\n",
    "\n",
    "    :param name1: First name to compare.\n",
    "    :param name2: Second name to compare.\n",
    "    :param threshold: Similarity threshold between 0 and 1, where 1 indicates a perfect match.\n",
    "    :return: True if the names are considered similar, otherwise False.\n",
    "    \"\"\"\n",
    "    \n",
    "    # Calculate the similarity ratio based on the Levenshtein distance.\n",
    "    max_len = max(len(name1), len(name2))\n",
    "    if max_len == 0:\n",
    "        return True\n",
    "\n",
    "    similarity = 1 - (levenshtein_distance(name1, name2) / max_len)\n",
    "    \n",
    "    return similarity > threshold\n",
    "\n",
    "def has_similar_authors(authors_list):\n",
    "    \"\"\"\n",
    "    Checks if a list of authors contains similar authors.\n",
    "\n",
    "    :param authors_list: List of author names.\n",
    "    :return: True if similar authors are found, otherwise False.\n",
    "    \"\"\"\n",
    "\n",
    "    for i in range(len(authors_list)):\n",
    "        for j in range(i+1, len(authors_list)):\n",
    "            if similar_names(authors_list[i], authors_list[j]):\n",
    "                return True\n",
    "    return False\n",
    "\n",
    "books_df['has_similar'] = books_df['authors_list'].apply(has_similar_authors)\n",
    "\n",
    "similar_authors_df = books_df[books_df['has_similar'] == True]\n",
    "\n",
    "print(len(similar_authors_df))\n",
    "similar_authors_df"
   ]
  },
  {
   "cell_type": "markdown",
   "id": "2dd0f9b4",
   "metadata": {},
   "source": [
    "### Get count"
   ]
  },
  {
   "cell_type": "code",
   "execution_count": 196,
   "id": "3c198795",
   "metadata": {},
   "outputs": [],
   "source": [
    "def get_count(word_l):\n",
    "    '''\n",
    "    Input:\n",
    "        word_l: a set of words representing the corpus. \n",
    "    Output:\n",
    "        word_count_dict: The wordcount dictionary where key is the word and value is its frequency.\n",
    "    '''\n",
    "    \n",
    "    word_count_dict = {}  # fill this with word counts\n",
    "    for word in word_l:\n",
    "        if word in word_count_dict:\n",
    "            word_count_dict[word] += 1  # Increment the word count\n",
    "        else:\n",
    "            word_count_dict[word] = 1  # Add the word with count 1\n",
    "    return word_count_dict"
   ]
  },
  {
   "cell_type": "code",
   "execution_count": 197,
   "id": "33782665",
   "metadata": {},
   "outputs": [],
   "source": [
    "vocab_count = get_count(vocab)"
   ]
  },
  {
   "cell_type": "markdown",
   "id": "7e3b59f9",
   "metadata": {},
   "source": [
    "### Get probs"
   ]
  },
  {
   "cell_type": "code",
   "execution_count": 198,
   "id": "48ad1319",
   "metadata": {},
   "outputs": [],
   "source": [
    "# UNQ_C3 GRADED FUNCTION: get_probs\n",
    "def get_probs(word_count_dict):\n",
    "    '''\n",
    "    Input:\n",
    "        word_count_dict: The wordcount dictionary where key is the word and value is its frequency.\n",
    "    Output:\n",
    "        probs: A dictionary where keys are the words and the values are the probability that a word will occur. \n",
    "    '''\n",
    "    probs = {}  # return this variable correctly\n",
    "        \n",
    "    total_count = sum(word_count_dict.values())  # Calculate the total count of words\n",
    "    \n",
    "    for word in word_count_dict:\n",
    "        probs[word] = word_count_dict[word] / total_count  # Calculate the probability for each word\n",
    "      \n",
    "    return probs"
   ]
  },
  {
   "cell_type": "code",
   "execution_count": 199,
   "id": "51a26b97",
   "metadata": {},
   "outputs": [
    {
     "data": {
      "text/plain": [
       "{'gin': 0.1111111111111111,\n",
       " 'liqueur': 0.1111111111111111,\n",
       " 'cafe': 0.1111111111111111,\n",
       " nan: 0.6666666666666666}"
      ]
     },
     "execution_count": 199,
     "metadata": {},
     "output_type": "execute_result"
    }
   ],
   "source": [
    "probs = get_probs(vocab_count)\n",
    "probs"
   ]
  },
  {
   "cell_type": "code",
   "execution_count": null,
   "id": "9708e722",
   "metadata": {},
   "outputs": [],
   "source": []
  },
  {
   "cell_type": "markdown",
   "id": "694ae553",
   "metadata": {},
   "source": [
    "### delete letter"
   ]
  },
  {
   "cell_type": "code",
   "execution_count": 200,
   "id": "72e2c223",
   "metadata": {},
   "outputs": [],
   "source": [
    "def delete_letter(word, verbose=False):\n",
    "    '''\n",
    "    Input:\n",
    "        word: the string/word for which you will generate all possible words \n",
    "                in the vocabulary which have 1 missing character\n",
    "    Output:\n",
    "        delete_l: a list of all possible strings obtained by deleting 1 character from word\n",
    "    '''\n",
    "    \n",
    "    delete_l = []\n",
    "    split_l = []\n",
    "    \n",
    "    # Generate all possible splits of the word\n",
    "    split_l = [(word[:i], word[i:]) for i in range(len(word) + 1)]\n",
    "    \n",
    "    # Generate all words that result from deleting one character\n",
    "    # Exclude the last split since it doesn't make sense to delete a character after the end of the word\n",
    "    delete_l = [L + R[1:] for L, R in split_l if R]  \n",
    "\n",
    "    if verbose: print(f\"input word {word}, \\nsplit_l = {split_l}, \\ndelete_l = {delete_l}\")\n",
    "\n",
    "    return  delete_l"
   ]
  },
  {
   "cell_type": "code",
   "execution_count": 201,
   "id": "f4e25d7d",
   "metadata": {},
   "outputs": [
    {
     "name": "stdout",
     "output_type": "stream",
     "text": [
      "['u', 'b']\n",
      "['45', '25', '24']\n",
      "['l', 'm']\n",
      "['in', 'gn', 'gi']\n",
      "['00', '10', '10']\n",
      "['l', 'm']\n",
      "['iqeur', 'lqeur', 'lieur', 'liqur', 'liqer', 'liqeu']\n",
      "['afé', 'cfé', 'caé', 'caf']\n",
      "['50', '30', '35']\n",
      "['l', 'm']\n",
      "['an', 'gn', 'ga']\n",
      "['00', '20', '20']\n",
      "['l', 'm']\n",
      "['ni', 'gi', 'gn']\n",
      "['55', '45', '45']\n",
      "['g', 'k']\n",
      "['igheur', 'lgheur', 'liheur', 'ligeur', 'lighur', 'ligher', 'ligheu']\n"
     ]
    }
   ],
   "source": [
    "for word in M:\n",
    "    print(delete_letter(word, verbose=False))"
   ]
  },
  {
   "cell_type": "markdown",
   "id": "cb74d5fb",
   "metadata": {},
   "source": [
    "### Switch letter"
   ]
  },
  {
   "cell_type": "code",
   "execution_count": 202,
   "id": "429ed278",
   "metadata": {},
   "outputs": [],
   "source": [
    "def switch_letter(word, verbose=False):\n",
    "    '''\n",
    "    Input:\n",
    "        word: input string\n",
    "     Output:\n",
    "        switches: a list of all possible strings with one adjacent charater switched\n",
    "    ''' \n",
    "    \n",
    "    switch_l = []\n",
    "    split_l = []\n",
    "    \n",
    "    # Generate all possible splits of the word\n",
    "    split_l = [(word[:i], word[i:]) for i in range(len(word) + 1)]\n",
    "    \n",
    "    # Form strings by swapping the first two characters of R for each split, where R has at least two characters\n",
    "    switch_l = [L + R[1] + R[0] + R[2:] for L, R in split_l if len(R) > 1]\n",
    "    \n",
    "    if verbose: print(f\"Input word = {word} \\nsplit_l = {split_l} \\nswitch_l = {switch_l}\") \n",
    "    \n",
    "    return switch_l"
   ]
  },
  {
   "cell_type": "code",
   "execution_count": 203,
   "id": "5260e278",
   "metadata": {},
   "outputs": [
    {
     "name": "stdout",
     "output_type": "stream",
     "text": [
      "Input word = bu \n",
      "split_l = [('', 'bu'), ('b', 'u'), ('bu', '')] \n",
      "switch_l = ['ub']\n",
      "['ub']\n",
      "Input word = 245 \n",
      "split_l = [('', '245'), ('2', '45'), ('24', '5'), ('245', '')] \n",
      "switch_l = ['425', '254']\n",
      "['425', '254']\n",
      "Input word = ml \n",
      "split_l = [('', 'ml'), ('m', 'l'), ('ml', '')] \n",
      "switch_l = ['lm']\n",
      "['lm']\n",
      "Input word = gin \n",
      "split_l = [('', 'gin'), ('g', 'in'), ('gi', 'n'), ('gin', '')] \n",
      "switch_l = ['ign', 'gni']\n",
      "['ign', 'gni']\n",
      "Input word = 100 \n",
      "split_l = [('', '100'), ('1', '00'), ('10', '0'), ('100', '')] \n",
      "switch_l = ['010', '100']\n",
      "['010', '100']\n",
      "Input word = ml \n",
      "split_l = [('', 'ml'), ('m', 'l'), ('ml', '')] \n",
      "switch_l = ['lm']\n",
      "['lm']\n",
      "Input word = liqeur \n",
      "split_l = [('', 'liqeur'), ('l', 'iqeur'), ('li', 'qeur'), ('liq', 'eur'), ('liqe', 'ur'), ('liqeu', 'r'), ('liqeur', '')] \n",
      "switch_l = ['ilqeur', 'lqieur', 'liequr', 'liquer', 'liqeru']\n",
      "['ilqeur', 'lqieur', 'liequr', 'liquer', 'liqeru']\n",
      "Input word = café \n",
      "split_l = [('', 'café'), ('c', 'afé'), ('ca', 'fé'), ('caf', 'é'), ('café', '')] \n",
      "switch_l = ['acfé', 'cfaé', 'caéf']\n",
      "['acfé', 'cfaé', 'caéf']\n",
      "Input word = 350 \n",
      "split_l = [('', '350'), ('3', '50'), ('35', '0'), ('350', '')] \n",
      "switch_l = ['530', '305']\n",
      "['530', '305']\n",
      "Input word = ml \n",
      "split_l = [('', 'ml'), ('m', 'l'), ('ml', '')] \n",
      "switch_l = ['lm']\n",
      "['lm']\n",
      "Input word = gan \n",
      "split_l = [('', 'gan'), ('g', 'an'), ('ga', 'n'), ('gan', '')] \n",
      "switch_l = ['agn', 'gna']\n",
      "['agn', 'gna']\n",
      "Input word = 200 \n",
      "split_l = [('', '200'), ('2', '00'), ('20', '0'), ('200', '')] \n",
      "switch_l = ['020', '200']\n",
      "['020', '200']\n",
      "Input word = ml \n",
      "split_l = [('', 'ml'), ('m', 'l'), ('ml', '')] \n",
      "switch_l = ['lm']\n",
      "['lm']\n",
      "Input word = gni \n",
      "split_l = [('', 'gni'), ('g', 'ni'), ('gn', 'i'), ('gni', '')] \n",
      "switch_l = ['ngi', 'gin']\n",
      "['ngi', 'gin']\n",
      "Input word = 455 \n",
      "split_l = [('', '455'), ('4', '55'), ('45', '5'), ('455', '')] \n",
      "switch_l = ['545', '455']\n",
      "['545', '455']\n",
      "Input word = kg \n",
      "split_l = [('', 'kg'), ('k', 'g'), ('kg', '')] \n",
      "switch_l = ['gk']\n",
      "['gk']\n",
      "Input word = ligheur \n",
      "split_l = [('', 'ligheur'), ('l', 'igheur'), ('li', 'gheur'), ('lig', 'heur'), ('ligh', 'eur'), ('lighe', 'ur'), ('ligheu', 'r'), ('ligheur', '')] \n",
      "switch_l = ['ilgheur', 'lgiheur', 'lihgeur', 'ligehur', 'lighuer', 'ligheru']\n",
      "['ilgheur', 'lgiheur', 'lihgeur', 'ligehur', 'lighuer', 'ligheru']\n"
     ]
    }
   ],
   "source": [
    "for word in M:\n",
    "    print(switch_letter(word, verbose=True))"
   ]
  },
  {
   "cell_type": "markdown",
   "id": "e656061a",
   "metadata": {},
   "source": [
    "### Replace letter"
   ]
  },
  {
   "cell_type": "code",
   "execution_count": 204,
   "id": "32c50d08",
   "metadata": {},
   "outputs": [],
   "source": [
    "def replace_letter(word, verbose=False):\n",
    "    '''\n",
    "    Input:\n",
    "        word: the input string/word \n",
    "    Output:\n",
    "        replaces: a list of all possible strings where we replaced one letter from the original word. \n",
    "    ''' \n",
    "    \n",
    "    letters = 'abcdefghijklmnopqrstuvwxyz'\n",
    "    \n",
    "    replace_l = []\n",
    "    split_l = []\n",
    "        \n",
    "    # Generate all possible splits of the word\n",
    "    split_l = [(word[:i], word[i:]) for i in range(len(word))]\n",
    "    \n",
    "    # Form strings by replacing the first character of R in each split with each letter in the alphabet\n",
    "    replace_l = [L + c + R[1:] for L, R in split_l if R for c in letters]\n",
    "    \n",
    "    # Convert the list to a set to remove duplicates\n",
    "    replace_set = set(replace_l)\n",
    "    \n",
    "    # Remove the original word from the set\n",
    "    replace_set.discard(word)\n",
    "    \n",
    "    # turn the set back into a list and sort it, for easier viewing\n",
    "    replace_l = sorted(list(replace_set))\n",
    "    \n",
    "    if verbose: print(f\"Input word = {word} \\nsplit_l = {split_l} \\nreplace_l {replace_l}\")   \n",
    "    \n",
    "    return replace_l"
   ]
  },
  {
   "cell_type": "code",
   "execution_count": 205,
   "id": "794f903b",
   "metadata": {},
   "outputs": [
    {
     "name": "stdout",
     "output_type": "stream",
     "text": [
      "['au', 'ba', 'bb', 'bc', 'bd', 'be', 'bf', 'bg', 'bh', 'bi', 'bj', 'bk', 'bl', 'bm', 'bn', 'bo', 'bp', 'bq', 'br', 'bs', 'bt', 'bv', 'bw', 'bx', 'by', 'bz', 'cu', 'du', 'eu', 'fu', 'gu', 'hu', 'iu', 'ju', 'ku', 'lu', 'mu', 'nu', 'ou', 'pu', 'qu', 'ru', 'su', 'tu', 'uu', 'vu', 'wu', 'xu', 'yu', 'zu']\n",
      "['24a', '24b', '24c', '24d', '24e', '24f', '24g', '24h', '24i', '24j', '24k', '24l', '24m', '24n', '24o', '24p', '24q', '24r', '24s', '24t', '24u', '24v', '24w', '24x', '24y', '24z', '2a5', '2b5', '2c5', '2d5', '2e5', '2f5', '2g5', '2h5', '2i5', '2j5', '2k5', '2l5', '2m5', '2n5', '2o5', '2p5', '2q5', '2r5', '2s5', '2t5', '2u5', '2v5', '2w5', '2x5', '2y5', '2z5', 'a45', 'b45', 'c45', 'd45', 'e45', 'f45', 'g45', 'h45', 'i45', 'j45', 'k45', 'l45', 'm45', 'n45', 'o45', 'p45', 'q45', 'r45', 's45', 't45', 'u45', 'v45', 'w45', 'x45', 'y45', 'z45']\n",
      "['al', 'bl', 'cl', 'dl', 'el', 'fl', 'gl', 'hl', 'il', 'jl', 'kl', 'll', 'ma', 'mb', 'mc', 'md', 'me', 'mf', 'mg', 'mh', 'mi', 'mj', 'mk', 'mm', 'mn', 'mo', 'mp', 'mq', 'mr', 'ms', 'mt', 'mu', 'mv', 'mw', 'mx', 'my', 'mz', 'nl', 'ol', 'pl', 'ql', 'rl', 'sl', 'tl', 'ul', 'vl', 'wl', 'xl', 'yl', 'zl']\n",
      "['ain', 'bin', 'cin', 'din', 'ein', 'fin', 'gan', 'gbn', 'gcn', 'gdn', 'gen', 'gfn', 'ggn', 'ghn', 'gia', 'gib', 'gic', 'gid', 'gie', 'gif', 'gig', 'gih', 'gii', 'gij', 'gik', 'gil', 'gim', 'gio', 'gip', 'giq', 'gir', 'gis', 'git', 'giu', 'giv', 'giw', 'gix', 'giy', 'giz', 'gjn', 'gkn', 'gln', 'gmn', 'gnn', 'gon', 'gpn', 'gqn', 'grn', 'gsn', 'gtn', 'gun', 'gvn', 'gwn', 'gxn', 'gyn', 'gzn', 'hin', 'iin', 'jin', 'kin', 'lin', 'min', 'nin', 'oin', 'pin', 'qin', 'rin', 'sin', 'tin', 'uin', 'vin', 'win', 'xin', 'yin', 'zin']\n",
      "['10a', '10b', '10c', '10d', '10e', '10f', '10g', '10h', '10i', '10j', '10k', '10l', '10m', '10n', '10o', '10p', '10q', '10r', '10s', '10t', '10u', '10v', '10w', '10x', '10y', '10z', '1a0', '1b0', '1c0', '1d0', '1e0', '1f0', '1g0', '1h0', '1i0', '1j0', '1k0', '1l0', '1m0', '1n0', '1o0', '1p0', '1q0', '1r0', '1s0', '1t0', '1u0', '1v0', '1w0', '1x0', '1y0', '1z0', 'a00', 'b00', 'c00', 'd00', 'e00', 'f00', 'g00', 'h00', 'i00', 'j00', 'k00', 'l00', 'm00', 'n00', 'o00', 'p00', 'q00', 'r00', 's00', 't00', 'u00', 'v00', 'w00', 'x00', 'y00', 'z00']\n",
      "['al', 'bl', 'cl', 'dl', 'el', 'fl', 'gl', 'hl', 'il', 'jl', 'kl', 'll', 'ma', 'mb', 'mc', 'md', 'me', 'mf', 'mg', 'mh', 'mi', 'mj', 'mk', 'mm', 'mn', 'mo', 'mp', 'mq', 'mr', 'ms', 'mt', 'mu', 'mv', 'mw', 'mx', 'my', 'mz', 'nl', 'ol', 'pl', 'ql', 'rl', 'sl', 'tl', 'ul', 'vl', 'wl', 'xl', 'yl', 'zl']\n",
      "['aiqeur', 'biqeur', 'ciqeur', 'diqeur', 'eiqeur', 'fiqeur', 'giqeur', 'hiqeur', 'iiqeur', 'jiqeur', 'kiqeur', 'laqeur', 'lbqeur', 'lcqeur', 'ldqeur', 'leqeur', 'lfqeur', 'lgqeur', 'lhqeur', 'liaeur', 'libeur', 'liceur', 'lideur', 'lieeur', 'lifeur', 'ligeur', 'liheur', 'liieur', 'lijeur', 'likeur', 'lileur', 'limeur', 'lineur', 'lioeur', 'lipeur', 'liqaur', 'liqbur', 'liqcur', 'liqdur', 'liqear', 'liqebr', 'liqecr', 'liqedr', 'liqeer', 'liqefr', 'liqegr', 'liqehr', 'liqeir', 'liqejr', 'liqekr', 'liqelr', 'liqemr', 'liqenr', 'liqeor', 'liqepr', 'liqeqr', 'liqerr', 'liqesr', 'liqetr', 'liqeua', 'liqeub', 'liqeuc', 'liqeud', 'liqeue', 'liqeuf', 'liqeug', 'liqeuh', 'liqeui', 'liqeuj', 'liqeuk', 'liqeul', 'liqeum', 'liqeun', 'liqeuo', 'liqeup', 'liqeuq', 'liqeus', 'liqeut', 'liqeuu', 'liqeuv', 'liqeuw', 'liqeux', 'liqeuy', 'liqeuz', 'liqevr', 'liqewr', 'liqexr', 'liqeyr', 'liqezr', 'liqfur', 'liqgur', 'liqhur', 'liqiur', 'liqjur', 'liqkur', 'liqlur', 'liqmur', 'liqnur', 'liqour', 'liqpur', 'liqqur', 'liqrur', 'liqsur', 'liqtur', 'liquur', 'liqvur', 'liqwur', 'liqxur', 'liqyur', 'liqzur', 'lireur', 'liseur', 'liteur', 'liueur', 'liveur', 'liweur', 'lixeur', 'liyeur', 'lizeur', 'ljqeur', 'lkqeur', 'llqeur', 'lmqeur', 'lnqeur', 'loqeur', 'lpqeur', 'lqqeur', 'lrqeur', 'lsqeur', 'ltqeur', 'luqeur', 'lvqeur', 'lwqeur', 'lxqeur', 'lyqeur', 'lzqeur', 'miqeur', 'niqeur', 'oiqeur', 'piqeur', 'qiqeur', 'riqeur', 'siqeur', 'tiqeur', 'uiqeur', 'viqeur', 'wiqeur', 'xiqeur', 'yiqeur', 'ziqeur']\n",
      "['aafé', 'bafé', 'caaé', 'cabé', 'cacé', 'cadé', 'caeé', 'cafa', 'cafb', 'cafc', 'cafd', 'cafe', 'caff', 'cafg', 'cafh', 'cafi', 'cafj', 'cafk', 'cafl', 'cafm', 'cafn', 'cafo', 'cafp', 'cafq', 'cafr', 'cafs', 'caft', 'cafu', 'cafv', 'cafw', 'cafx', 'cafy', 'cafz', 'cagé', 'cahé', 'caié', 'cajé', 'caké', 'calé', 'camé', 'cané', 'caoé', 'capé', 'caqé', 'caré', 'casé', 'caté', 'caué', 'cavé', 'cawé', 'caxé', 'cayé', 'cazé', 'cbfé', 'ccfé', 'cdfé', 'cefé', 'cffé', 'cgfé', 'chfé', 'cifé', 'cjfé', 'ckfé', 'clfé', 'cmfé', 'cnfé', 'cofé', 'cpfé', 'cqfé', 'crfé', 'csfé', 'ctfé', 'cufé', 'cvfé', 'cwfé', 'cxfé', 'cyfé', 'czfé', 'dafé', 'eafé', 'fafé', 'gafé', 'hafé', 'iafé', 'jafé', 'kafé', 'lafé', 'mafé', 'nafé', 'oafé', 'pafé', 'qafé', 'rafé', 'safé', 'tafé', 'uafé', 'vafé', 'wafé', 'xafé', 'yafé', 'zafé']\n",
      "['35a', '35b', '35c', '35d', '35e', '35f', '35g', '35h', '35i', '35j', '35k', '35l', '35m', '35n', '35o', '35p', '35q', '35r', '35s', '35t', '35u', '35v', '35w', '35x', '35y', '35z', '3a0', '3b0', '3c0', '3d0', '3e0', '3f0', '3g0', '3h0', '3i0', '3j0', '3k0', '3l0', '3m0', '3n0', '3o0', '3p0', '3q0', '3r0', '3s0', '3t0', '3u0', '3v0', '3w0', '3x0', '3y0', '3z0', 'a50', 'b50', 'c50', 'd50', 'e50', 'f50', 'g50', 'h50', 'i50', 'j50', 'k50', 'l50', 'm50', 'n50', 'o50', 'p50', 'q50', 'r50', 's50', 't50', 'u50', 'v50', 'w50', 'x50', 'y50', 'z50']\n",
      "['al', 'bl', 'cl', 'dl', 'el', 'fl', 'gl', 'hl', 'il', 'jl', 'kl', 'll', 'ma', 'mb', 'mc', 'md', 'me', 'mf', 'mg', 'mh', 'mi', 'mj', 'mk', 'mm', 'mn', 'mo', 'mp', 'mq', 'mr', 'ms', 'mt', 'mu', 'mv', 'mw', 'mx', 'my', 'mz', 'nl', 'ol', 'pl', 'ql', 'rl', 'sl', 'tl', 'ul', 'vl', 'wl', 'xl', 'yl', 'zl']\n",
      "['aan', 'ban', 'can', 'dan', 'ean', 'fan', 'gaa', 'gab', 'gac', 'gad', 'gae', 'gaf', 'gag', 'gah', 'gai', 'gaj', 'gak', 'gal', 'gam', 'gao', 'gap', 'gaq', 'gar', 'gas', 'gat', 'gau', 'gav', 'gaw', 'gax', 'gay', 'gaz', 'gbn', 'gcn', 'gdn', 'gen', 'gfn', 'ggn', 'ghn', 'gin', 'gjn', 'gkn', 'gln', 'gmn', 'gnn', 'gon', 'gpn', 'gqn', 'grn', 'gsn', 'gtn', 'gun', 'gvn', 'gwn', 'gxn', 'gyn', 'gzn', 'han', 'ian', 'jan', 'kan', 'lan', 'man', 'nan', 'oan', 'pan', 'qan', 'ran', 'san', 'tan', 'uan', 'van', 'wan', 'xan', 'yan', 'zan']\n",
      "['20a', '20b', '20c', '20d', '20e', '20f', '20g', '20h', '20i', '20j', '20k', '20l', '20m', '20n', '20o', '20p', '20q', '20r', '20s', '20t', '20u', '20v', '20w', '20x', '20y', '20z', '2a0', '2b0', '2c0', '2d0', '2e0', '2f0', '2g0', '2h0', '2i0', '2j0', '2k0', '2l0', '2m0', '2n0', '2o0', '2p0', '2q0', '2r0', '2s0', '2t0', '2u0', '2v0', '2w0', '2x0', '2y0', '2z0', 'a00', 'b00', 'c00', 'd00', 'e00', 'f00', 'g00', 'h00', 'i00', 'j00', 'k00', 'l00', 'm00', 'n00', 'o00', 'p00', 'q00', 'r00', 's00', 't00', 'u00', 'v00', 'w00', 'x00', 'y00', 'z00']\n",
      "['al', 'bl', 'cl', 'dl', 'el', 'fl', 'gl', 'hl', 'il', 'jl', 'kl', 'll', 'ma', 'mb', 'mc', 'md', 'me', 'mf', 'mg', 'mh', 'mi', 'mj', 'mk', 'mm', 'mn', 'mo', 'mp', 'mq', 'mr', 'ms', 'mt', 'mu', 'mv', 'mw', 'mx', 'my', 'mz', 'nl', 'ol', 'pl', 'ql', 'rl', 'sl', 'tl', 'ul', 'vl', 'wl', 'xl', 'yl', 'zl']\n",
      "['ani', 'bni', 'cni', 'dni', 'eni', 'fni', 'gai', 'gbi', 'gci', 'gdi', 'gei', 'gfi', 'ggi', 'ghi', 'gii', 'gji', 'gki', 'gli', 'gmi', 'gna', 'gnb', 'gnc', 'gnd', 'gne', 'gnf', 'gng', 'gnh', 'gnj', 'gnk', 'gnl', 'gnm', 'gnn', 'gno', 'gnp', 'gnq', 'gnr', 'gns', 'gnt', 'gnu', 'gnv', 'gnw', 'gnx', 'gny', 'gnz', 'goi', 'gpi', 'gqi', 'gri', 'gsi', 'gti', 'gui', 'gvi', 'gwi', 'gxi', 'gyi', 'gzi', 'hni', 'ini', 'jni', 'kni', 'lni', 'mni', 'nni', 'oni', 'pni', 'qni', 'rni', 'sni', 'tni', 'uni', 'vni', 'wni', 'xni', 'yni', 'zni']\n",
      "['45a', '45b', '45c', '45d', '45e', '45f', '45g', '45h', '45i', '45j', '45k', '45l', '45m', '45n', '45o', '45p', '45q', '45r', '45s', '45t', '45u', '45v', '45w', '45x', '45y', '45z', '4a5', '4b5', '4c5', '4d5', '4e5', '4f5', '4g5', '4h5', '4i5', '4j5', '4k5', '4l5', '4m5', '4n5', '4o5', '4p5', '4q5', '4r5', '4s5', '4t5', '4u5', '4v5', '4w5', '4x5', '4y5', '4z5', 'a55', 'b55', 'c55', 'd55', 'e55', 'f55', 'g55', 'h55', 'i55', 'j55', 'k55', 'l55', 'm55', 'n55', 'o55', 'p55', 'q55', 'r55', 's55', 't55', 'u55', 'v55', 'w55', 'x55', 'y55', 'z55']\n",
      "['ag', 'bg', 'cg', 'dg', 'eg', 'fg', 'gg', 'hg', 'ig', 'jg', 'ka', 'kb', 'kc', 'kd', 'ke', 'kf', 'kh', 'ki', 'kj', 'kk', 'kl', 'km', 'kn', 'ko', 'kp', 'kq', 'kr', 'ks', 'kt', 'ku', 'kv', 'kw', 'kx', 'ky', 'kz', 'lg', 'mg', 'ng', 'og', 'pg', 'qg', 'rg', 'sg', 'tg', 'ug', 'vg', 'wg', 'xg', 'yg', 'zg']\n",
      "['aigheur', 'bigheur', 'cigheur', 'digheur', 'eigheur', 'figheur', 'gigheur', 'higheur', 'iigheur', 'jigheur', 'kigheur', 'lagheur', 'lbgheur', 'lcgheur', 'ldgheur', 'legheur', 'lfgheur', 'lggheur', 'lhgheur', 'liaheur', 'libheur', 'licheur', 'lidheur', 'lieheur', 'lifheur', 'ligaeur', 'ligbeur', 'ligceur', 'ligdeur', 'ligeeur', 'ligfeur', 'liggeur', 'lighaur', 'lighbur', 'lighcur', 'lighdur', 'lighear', 'lighebr', 'lighecr', 'lighedr', 'ligheer', 'lighefr', 'lighegr', 'lighehr', 'ligheir', 'lighejr', 'lighekr', 'lighelr', 'lighemr', 'lighenr', 'ligheor', 'lighepr', 'ligheqr', 'ligherr', 'lighesr', 'lighetr', 'ligheua', 'ligheub', 'ligheuc', 'ligheud', 'ligheue', 'ligheuf', 'ligheug', 'ligheuh', 'ligheui', 'ligheuj', 'ligheuk', 'ligheul', 'ligheum', 'ligheun', 'ligheuo', 'ligheup', 'ligheuq', 'ligheus', 'ligheut', 'ligheuu', 'ligheuv', 'ligheuw', 'ligheux', 'ligheuy', 'ligheuz', 'lighevr', 'lighewr', 'lighexr', 'ligheyr', 'lighezr', 'lighfur', 'lighgur', 'lighhur', 'lighiur', 'lighjur', 'lighkur', 'lighlur', 'lighmur', 'lighnur', 'lighour', 'lighpur', 'lighqur', 'lighrur', 'lighsur', 'lightur', 'lighuur', 'lighvur', 'lighwur', 'lighxur', 'lighyur', 'lighzur', 'ligieur', 'ligjeur', 'ligkeur', 'ligleur', 'ligmeur', 'ligneur', 'ligoeur', 'ligpeur', 'ligqeur', 'ligreur', 'ligseur', 'ligteur', 'ligueur', 'ligveur', 'ligweur', 'ligxeur', 'ligyeur', 'ligzeur', 'lihheur', 'liiheur', 'lijheur', 'likheur', 'lilheur', 'limheur', 'linheur', 'lioheur', 'lipheur', 'liqheur', 'lirheur', 'lisheur', 'litheur', 'liuheur', 'livheur', 'liwheur', 'lixheur', 'liyheur', 'lizheur', 'ljgheur', 'lkgheur', 'llgheur', 'lmgheur', 'lngheur', 'logheur', 'lpgheur', 'lqgheur', 'lrgheur', 'lsgheur', 'ltgheur', 'lugheur', 'lvgheur', 'lwgheur', 'lxgheur', 'lygheur', 'lzgheur', 'migheur', 'nigheur', 'oigheur', 'pigheur', 'qigheur', 'righeur', 'sigheur', 'tigheur', 'uigheur', 'vigheur', 'wigheur', 'xigheur', 'yigheur', 'zigheur']\n"
     ]
    }
   ],
   "source": [
    "for word in M:\n",
    "    print(replace_letter(word, verbose=False))"
   ]
  },
  {
   "cell_type": "markdown",
   "id": "082c79ed",
   "metadata": {},
   "source": [
    "### Insert letter"
   ]
  },
  {
   "cell_type": "code",
   "execution_count": 206,
   "id": "279d9d4f",
   "metadata": {},
   "outputs": [],
   "source": [
    "def insert_letter(word, verbose=False):\n",
    "    '''\n",
    "    Input:\n",
    "        word: the input string/word \n",
    "    Output:\n",
    "        inserts: a set of all possible strings with one new letter inserted at every offset\n",
    "    ''' \n",
    "    letters = 'abcdefghijklmnopqrstuvwxyz'\n",
    "    insert_l = []\n",
    "    split_l = []\n",
    "    \n",
    "    # Generate all possible splits of the word\n",
    "    split_l = [(word[:i], word[i:]) for i in range(len(word) + 1)]\n",
    "    \n",
    "    # Form strings by inserting a letter from 'letters' at every offset\n",
    "    insert_l = [L + c + R for L, R in split_l for c in letters]\n",
    "    \n",
    "    if verbose: print(f\"Input word {word} \\nsplit_l = {split_l} \\ninsert_l = {insert_l}\")\n",
    "    \n",
    "    return insert_l"
   ]
  },
  {
   "cell_type": "code",
   "execution_count": 207,
   "id": "d07fdc23",
   "metadata": {},
   "outputs": [
    {
     "name": "stdout",
     "output_type": "stream",
     "text": [
      "['abu', 'bbu', 'cbu', 'dbu', 'ebu', 'fbu', 'gbu', 'hbu', 'ibu', 'jbu', 'kbu', 'lbu', 'mbu', 'nbu', 'obu', 'pbu', 'qbu', 'rbu', 'sbu', 'tbu', 'ubu', 'vbu', 'wbu', 'xbu', 'ybu', 'zbu', 'bau', 'bbu', 'bcu', 'bdu', 'beu', 'bfu', 'bgu', 'bhu', 'biu', 'bju', 'bku', 'blu', 'bmu', 'bnu', 'bou', 'bpu', 'bqu', 'bru', 'bsu', 'btu', 'buu', 'bvu', 'bwu', 'bxu', 'byu', 'bzu', 'bua', 'bub', 'buc', 'bud', 'bue', 'buf', 'bug', 'buh', 'bui', 'buj', 'buk', 'bul', 'bum', 'bun', 'buo', 'bup', 'buq', 'bur', 'bus', 'but', 'buu', 'buv', 'buw', 'bux', 'buy', 'buz']\n",
      "['a245', 'b245', 'c245', 'd245', 'e245', 'f245', 'g245', 'h245', 'i245', 'j245', 'k245', 'l245', 'm245', 'n245', 'o245', 'p245', 'q245', 'r245', 's245', 't245', 'u245', 'v245', 'w245', 'x245', 'y245', 'z245', '2a45', '2b45', '2c45', '2d45', '2e45', '2f45', '2g45', '2h45', '2i45', '2j45', '2k45', '2l45', '2m45', '2n45', '2o45', '2p45', '2q45', '2r45', '2s45', '2t45', '2u45', '2v45', '2w45', '2x45', '2y45', '2z45', '24a5', '24b5', '24c5', '24d5', '24e5', '24f5', '24g5', '24h5', '24i5', '24j5', '24k5', '24l5', '24m5', '24n5', '24o5', '24p5', '24q5', '24r5', '24s5', '24t5', '24u5', '24v5', '24w5', '24x5', '24y5', '24z5', '245a', '245b', '245c', '245d', '245e', '245f', '245g', '245h', '245i', '245j', '245k', '245l', '245m', '245n', '245o', '245p', '245q', '245r', '245s', '245t', '245u', '245v', '245w', '245x', '245y', '245z']\n",
      "['aml', 'bml', 'cml', 'dml', 'eml', 'fml', 'gml', 'hml', 'iml', 'jml', 'kml', 'lml', 'mml', 'nml', 'oml', 'pml', 'qml', 'rml', 'sml', 'tml', 'uml', 'vml', 'wml', 'xml', 'yml', 'zml', 'mal', 'mbl', 'mcl', 'mdl', 'mel', 'mfl', 'mgl', 'mhl', 'mil', 'mjl', 'mkl', 'mll', 'mml', 'mnl', 'mol', 'mpl', 'mql', 'mrl', 'msl', 'mtl', 'mul', 'mvl', 'mwl', 'mxl', 'myl', 'mzl', 'mla', 'mlb', 'mlc', 'mld', 'mle', 'mlf', 'mlg', 'mlh', 'mli', 'mlj', 'mlk', 'mll', 'mlm', 'mln', 'mlo', 'mlp', 'mlq', 'mlr', 'mls', 'mlt', 'mlu', 'mlv', 'mlw', 'mlx', 'mly', 'mlz']\n",
      "['agin', 'bgin', 'cgin', 'dgin', 'egin', 'fgin', 'ggin', 'hgin', 'igin', 'jgin', 'kgin', 'lgin', 'mgin', 'ngin', 'ogin', 'pgin', 'qgin', 'rgin', 'sgin', 'tgin', 'ugin', 'vgin', 'wgin', 'xgin', 'ygin', 'zgin', 'gain', 'gbin', 'gcin', 'gdin', 'gein', 'gfin', 'ggin', 'ghin', 'giin', 'gjin', 'gkin', 'glin', 'gmin', 'gnin', 'goin', 'gpin', 'gqin', 'grin', 'gsin', 'gtin', 'guin', 'gvin', 'gwin', 'gxin', 'gyin', 'gzin', 'gian', 'gibn', 'gicn', 'gidn', 'gien', 'gifn', 'gign', 'gihn', 'giin', 'gijn', 'gikn', 'giln', 'gimn', 'ginn', 'gion', 'gipn', 'giqn', 'girn', 'gisn', 'gitn', 'giun', 'givn', 'giwn', 'gixn', 'giyn', 'gizn', 'gina', 'ginb', 'ginc', 'gind', 'gine', 'ginf', 'ging', 'ginh', 'gini', 'ginj', 'gink', 'ginl', 'ginm', 'ginn', 'gino', 'ginp', 'ginq', 'ginr', 'gins', 'gint', 'ginu', 'ginv', 'ginw', 'ginx', 'giny', 'ginz']\n",
      "['a100', 'b100', 'c100', 'd100', 'e100', 'f100', 'g100', 'h100', 'i100', 'j100', 'k100', 'l100', 'm100', 'n100', 'o100', 'p100', 'q100', 'r100', 's100', 't100', 'u100', 'v100', 'w100', 'x100', 'y100', 'z100', '1a00', '1b00', '1c00', '1d00', '1e00', '1f00', '1g00', '1h00', '1i00', '1j00', '1k00', '1l00', '1m00', '1n00', '1o00', '1p00', '1q00', '1r00', '1s00', '1t00', '1u00', '1v00', '1w00', '1x00', '1y00', '1z00', '10a0', '10b0', '10c0', '10d0', '10e0', '10f0', '10g0', '10h0', '10i0', '10j0', '10k0', '10l0', '10m0', '10n0', '10o0', '10p0', '10q0', '10r0', '10s0', '10t0', '10u0', '10v0', '10w0', '10x0', '10y0', '10z0', '100a', '100b', '100c', '100d', '100e', '100f', '100g', '100h', '100i', '100j', '100k', '100l', '100m', '100n', '100o', '100p', '100q', '100r', '100s', '100t', '100u', '100v', '100w', '100x', '100y', '100z']\n",
      "['aml', 'bml', 'cml', 'dml', 'eml', 'fml', 'gml', 'hml', 'iml', 'jml', 'kml', 'lml', 'mml', 'nml', 'oml', 'pml', 'qml', 'rml', 'sml', 'tml', 'uml', 'vml', 'wml', 'xml', 'yml', 'zml', 'mal', 'mbl', 'mcl', 'mdl', 'mel', 'mfl', 'mgl', 'mhl', 'mil', 'mjl', 'mkl', 'mll', 'mml', 'mnl', 'mol', 'mpl', 'mql', 'mrl', 'msl', 'mtl', 'mul', 'mvl', 'mwl', 'mxl', 'myl', 'mzl', 'mla', 'mlb', 'mlc', 'mld', 'mle', 'mlf', 'mlg', 'mlh', 'mli', 'mlj', 'mlk', 'mll', 'mlm', 'mln', 'mlo', 'mlp', 'mlq', 'mlr', 'mls', 'mlt', 'mlu', 'mlv', 'mlw', 'mlx', 'mly', 'mlz']\n",
      "['aliqeur', 'bliqeur', 'cliqeur', 'dliqeur', 'eliqeur', 'fliqeur', 'gliqeur', 'hliqeur', 'iliqeur', 'jliqeur', 'kliqeur', 'lliqeur', 'mliqeur', 'nliqeur', 'oliqeur', 'pliqeur', 'qliqeur', 'rliqeur', 'sliqeur', 'tliqeur', 'uliqeur', 'vliqeur', 'wliqeur', 'xliqeur', 'yliqeur', 'zliqeur', 'laiqeur', 'lbiqeur', 'lciqeur', 'ldiqeur', 'leiqeur', 'lfiqeur', 'lgiqeur', 'lhiqeur', 'liiqeur', 'ljiqeur', 'lkiqeur', 'lliqeur', 'lmiqeur', 'lniqeur', 'loiqeur', 'lpiqeur', 'lqiqeur', 'lriqeur', 'lsiqeur', 'ltiqeur', 'luiqeur', 'lviqeur', 'lwiqeur', 'lxiqeur', 'lyiqeur', 'lziqeur', 'liaqeur', 'libqeur', 'licqeur', 'lidqeur', 'lieqeur', 'lifqeur', 'ligqeur', 'lihqeur', 'liiqeur', 'lijqeur', 'likqeur', 'lilqeur', 'limqeur', 'linqeur', 'lioqeur', 'lipqeur', 'liqqeur', 'lirqeur', 'lisqeur', 'litqeur', 'liuqeur', 'livqeur', 'liwqeur', 'lixqeur', 'liyqeur', 'lizqeur', 'liqaeur', 'liqbeur', 'liqceur', 'liqdeur', 'liqeeur', 'liqfeur', 'liqgeur', 'liqheur', 'liqieur', 'liqjeur', 'liqkeur', 'liqleur', 'liqmeur', 'liqneur', 'liqoeur', 'liqpeur', 'liqqeur', 'liqreur', 'liqseur', 'liqteur', 'liqueur', 'liqveur', 'liqweur', 'liqxeur', 'liqyeur', 'liqzeur', 'liqeaur', 'liqebur', 'liqecur', 'liqedur', 'liqeeur', 'liqefur', 'liqegur', 'liqehur', 'liqeiur', 'liqejur', 'liqekur', 'liqelur', 'liqemur', 'liqenur', 'liqeour', 'liqepur', 'liqequr', 'liqerur', 'liqesur', 'liqetur', 'liqeuur', 'liqevur', 'liqewur', 'liqexur', 'liqeyur', 'liqezur', 'liqeuar', 'liqeubr', 'liqeucr', 'liqeudr', 'liqeuer', 'liqeufr', 'liqeugr', 'liqeuhr', 'liqeuir', 'liqeujr', 'liqeukr', 'liqeulr', 'liqeumr', 'liqeunr', 'liqeuor', 'liqeupr', 'liqeuqr', 'liqeurr', 'liqeusr', 'liqeutr', 'liqeuur', 'liqeuvr', 'liqeuwr', 'liqeuxr', 'liqeuyr', 'liqeuzr', 'liqeura', 'liqeurb', 'liqeurc', 'liqeurd', 'liqeure', 'liqeurf', 'liqeurg', 'liqeurh', 'liqeuri', 'liqeurj', 'liqeurk', 'liqeurl', 'liqeurm', 'liqeurn', 'liqeuro', 'liqeurp', 'liqeurq', 'liqeurr', 'liqeurs', 'liqeurt', 'liqeuru', 'liqeurv', 'liqeurw', 'liqeurx', 'liqeury', 'liqeurz']\n",
      "['acafé', 'bcafé', 'ccafé', 'dcafé', 'ecafé', 'fcafé', 'gcafé', 'hcafé', 'icafé', 'jcafé', 'kcafé', 'lcafé', 'mcafé', 'ncafé', 'ocafé', 'pcafé', 'qcafé', 'rcafé', 'scafé', 'tcafé', 'ucafé', 'vcafé', 'wcafé', 'xcafé', 'ycafé', 'zcafé', 'caafé', 'cbafé', 'ccafé', 'cdafé', 'ceafé', 'cfafé', 'cgafé', 'chafé', 'ciafé', 'cjafé', 'ckafé', 'clafé', 'cmafé', 'cnafé', 'coafé', 'cpafé', 'cqafé', 'crafé', 'csafé', 'ctafé', 'cuafé', 'cvafé', 'cwafé', 'cxafé', 'cyafé', 'czafé', 'caafé', 'cabfé', 'cacfé', 'cadfé', 'caefé', 'caffé', 'cagfé', 'cahfé', 'caifé', 'cajfé', 'cakfé', 'calfé', 'camfé', 'canfé', 'caofé', 'capfé', 'caqfé', 'carfé', 'casfé', 'catfé', 'caufé', 'cavfé', 'cawfé', 'caxfé', 'cayfé', 'cazfé', 'cafaé', 'cafbé', 'cafcé', 'cafdé', 'cafeé', 'caffé', 'cafgé', 'cafhé', 'cafié', 'cafjé', 'cafké', 'caflé', 'cafmé', 'cafné', 'cafoé', 'cafpé', 'cafqé', 'cafré', 'cafsé', 'cafté', 'cafué', 'cafvé', 'cafwé', 'cafxé', 'cafyé', 'cafzé', 'caféa', 'caféb', 'caféc', 'caféd', 'cafée', 'caféf', 'cafég', 'caféh', 'caféi', 'caféj', 'cafék', 'cafél', 'cafém', 'cafén', 'caféo', 'cafép', 'caféq', 'cafér', 'cafés', 'cafét', 'caféu', 'cafév', 'caféw', 'caféx', 'caféy', 'caféz']\n",
      "['a350', 'b350', 'c350', 'd350', 'e350', 'f350', 'g350', 'h350', 'i350', 'j350', 'k350', 'l350', 'm350', 'n350', 'o350', 'p350', 'q350', 'r350', 's350', 't350', 'u350', 'v350', 'w350', 'x350', 'y350', 'z350', '3a50', '3b50', '3c50', '3d50', '3e50', '3f50', '3g50', '3h50', '3i50', '3j50', '3k50', '3l50', '3m50', '3n50', '3o50', '3p50', '3q50', '3r50', '3s50', '3t50', '3u50', '3v50', '3w50', '3x50', '3y50', '3z50', '35a0', '35b0', '35c0', '35d0', '35e0', '35f0', '35g0', '35h0', '35i0', '35j0', '35k0', '35l0', '35m0', '35n0', '35o0', '35p0', '35q0', '35r0', '35s0', '35t0', '35u0', '35v0', '35w0', '35x0', '35y0', '35z0', '350a', '350b', '350c', '350d', '350e', '350f', '350g', '350h', '350i', '350j', '350k', '350l', '350m', '350n', '350o', '350p', '350q', '350r', '350s', '350t', '350u', '350v', '350w', '350x', '350y', '350z']\n",
      "['aml', 'bml', 'cml', 'dml', 'eml', 'fml', 'gml', 'hml', 'iml', 'jml', 'kml', 'lml', 'mml', 'nml', 'oml', 'pml', 'qml', 'rml', 'sml', 'tml', 'uml', 'vml', 'wml', 'xml', 'yml', 'zml', 'mal', 'mbl', 'mcl', 'mdl', 'mel', 'mfl', 'mgl', 'mhl', 'mil', 'mjl', 'mkl', 'mll', 'mml', 'mnl', 'mol', 'mpl', 'mql', 'mrl', 'msl', 'mtl', 'mul', 'mvl', 'mwl', 'mxl', 'myl', 'mzl', 'mla', 'mlb', 'mlc', 'mld', 'mle', 'mlf', 'mlg', 'mlh', 'mli', 'mlj', 'mlk', 'mll', 'mlm', 'mln', 'mlo', 'mlp', 'mlq', 'mlr', 'mls', 'mlt', 'mlu', 'mlv', 'mlw', 'mlx', 'mly', 'mlz']\n",
      "['agan', 'bgan', 'cgan', 'dgan', 'egan', 'fgan', 'ggan', 'hgan', 'igan', 'jgan', 'kgan', 'lgan', 'mgan', 'ngan', 'ogan', 'pgan', 'qgan', 'rgan', 'sgan', 'tgan', 'ugan', 'vgan', 'wgan', 'xgan', 'ygan', 'zgan', 'gaan', 'gban', 'gcan', 'gdan', 'gean', 'gfan', 'ggan', 'ghan', 'gian', 'gjan', 'gkan', 'glan', 'gman', 'gnan', 'goan', 'gpan', 'gqan', 'gran', 'gsan', 'gtan', 'guan', 'gvan', 'gwan', 'gxan', 'gyan', 'gzan', 'gaan', 'gabn', 'gacn', 'gadn', 'gaen', 'gafn', 'gagn', 'gahn', 'gain', 'gajn', 'gakn', 'galn', 'gamn', 'gann', 'gaon', 'gapn', 'gaqn', 'garn', 'gasn', 'gatn', 'gaun', 'gavn', 'gawn', 'gaxn', 'gayn', 'gazn', 'gana', 'ganb', 'ganc', 'gand', 'gane', 'ganf', 'gang', 'ganh', 'gani', 'ganj', 'gank', 'ganl', 'ganm', 'gann', 'gano', 'ganp', 'ganq', 'ganr', 'gans', 'gant', 'ganu', 'ganv', 'ganw', 'ganx', 'gany', 'ganz']\n",
      "['a200', 'b200', 'c200', 'd200', 'e200', 'f200', 'g200', 'h200', 'i200', 'j200', 'k200', 'l200', 'm200', 'n200', 'o200', 'p200', 'q200', 'r200', 's200', 't200', 'u200', 'v200', 'w200', 'x200', 'y200', 'z200', '2a00', '2b00', '2c00', '2d00', '2e00', '2f00', '2g00', '2h00', '2i00', '2j00', '2k00', '2l00', '2m00', '2n00', '2o00', '2p00', '2q00', '2r00', '2s00', '2t00', '2u00', '2v00', '2w00', '2x00', '2y00', '2z00', '20a0', '20b0', '20c0', '20d0', '20e0', '20f0', '20g0', '20h0', '20i0', '20j0', '20k0', '20l0', '20m0', '20n0', '20o0', '20p0', '20q0', '20r0', '20s0', '20t0', '20u0', '20v0', '20w0', '20x0', '20y0', '20z0', '200a', '200b', '200c', '200d', '200e', '200f', '200g', '200h', '200i', '200j', '200k', '200l', '200m', '200n', '200o', '200p', '200q', '200r', '200s', '200t', '200u', '200v', '200w', '200x', '200y', '200z']\n",
      "['aml', 'bml', 'cml', 'dml', 'eml', 'fml', 'gml', 'hml', 'iml', 'jml', 'kml', 'lml', 'mml', 'nml', 'oml', 'pml', 'qml', 'rml', 'sml', 'tml', 'uml', 'vml', 'wml', 'xml', 'yml', 'zml', 'mal', 'mbl', 'mcl', 'mdl', 'mel', 'mfl', 'mgl', 'mhl', 'mil', 'mjl', 'mkl', 'mll', 'mml', 'mnl', 'mol', 'mpl', 'mql', 'mrl', 'msl', 'mtl', 'mul', 'mvl', 'mwl', 'mxl', 'myl', 'mzl', 'mla', 'mlb', 'mlc', 'mld', 'mle', 'mlf', 'mlg', 'mlh', 'mli', 'mlj', 'mlk', 'mll', 'mlm', 'mln', 'mlo', 'mlp', 'mlq', 'mlr', 'mls', 'mlt', 'mlu', 'mlv', 'mlw', 'mlx', 'mly', 'mlz']\n",
      "['agni', 'bgni', 'cgni', 'dgni', 'egni', 'fgni', 'ggni', 'hgni', 'igni', 'jgni', 'kgni', 'lgni', 'mgni', 'ngni', 'ogni', 'pgni', 'qgni', 'rgni', 'sgni', 'tgni', 'ugni', 'vgni', 'wgni', 'xgni', 'ygni', 'zgni', 'gani', 'gbni', 'gcni', 'gdni', 'geni', 'gfni', 'ggni', 'ghni', 'gini', 'gjni', 'gkni', 'glni', 'gmni', 'gnni', 'goni', 'gpni', 'gqni', 'grni', 'gsni', 'gtni', 'guni', 'gvni', 'gwni', 'gxni', 'gyni', 'gzni', 'gnai', 'gnbi', 'gnci', 'gndi', 'gnei', 'gnfi', 'gngi', 'gnhi', 'gnii', 'gnji', 'gnki', 'gnli', 'gnmi', 'gnni', 'gnoi', 'gnpi', 'gnqi', 'gnri', 'gnsi', 'gnti', 'gnui', 'gnvi', 'gnwi', 'gnxi', 'gnyi', 'gnzi', 'gnia', 'gnib', 'gnic', 'gnid', 'gnie', 'gnif', 'gnig', 'gnih', 'gnii', 'gnij', 'gnik', 'gnil', 'gnim', 'gnin', 'gnio', 'gnip', 'gniq', 'gnir', 'gnis', 'gnit', 'gniu', 'gniv', 'gniw', 'gnix', 'gniy', 'gniz']\n",
      "['a455', 'b455', 'c455', 'd455', 'e455', 'f455', 'g455', 'h455', 'i455', 'j455', 'k455', 'l455', 'm455', 'n455', 'o455', 'p455', 'q455', 'r455', 's455', 't455', 'u455', 'v455', 'w455', 'x455', 'y455', 'z455', '4a55', '4b55', '4c55', '4d55', '4e55', '4f55', '4g55', '4h55', '4i55', '4j55', '4k55', '4l55', '4m55', '4n55', '4o55', '4p55', '4q55', '4r55', '4s55', '4t55', '4u55', '4v55', '4w55', '4x55', '4y55', '4z55', '45a5', '45b5', '45c5', '45d5', '45e5', '45f5', '45g5', '45h5', '45i5', '45j5', '45k5', '45l5', '45m5', '45n5', '45o5', '45p5', '45q5', '45r5', '45s5', '45t5', '45u5', '45v5', '45w5', '45x5', '45y5', '45z5', '455a', '455b', '455c', '455d', '455e', '455f', '455g', '455h', '455i', '455j', '455k', '455l', '455m', '455n', '455o', '455p', '455q', '455r', '455s', '455t', '455u', '455v', '455w', '455x', '455y', '455z']\n",
      "['akg', 'bkg', 'ckg', 'dkg', 'ekg', 'fkg', 'gkg', 'hkg', 'ikg', 'jkg', 'kkg', 'lkg', 'mkg', 'nkg', 'okg', 'pkg', 'qkg', 'rkg', 'skg', 'tkg', 'ukg', 'vkg', 'wkg', 'xkg', 'ykg', 'zkg', 'kag', 'kbg', 'kcg', 'kdg', 'keg', 'kfg', 'kgg', 'khg', 'kig', 'kjg', 'kkg', 'klg', 'kmg', 'kng', 'kog', 'kpg', 'kqg', 'krg', 'ksg', 'ktg', 'kug', 'kvg', 'kwg', 'kxg', 'kyg', 'kzg', 'kga', 'kgb', 'kgc', 'kgd', 'kge', 'kgf', 'kgg', 'kgh', 'kgi', 'kgj', 'kgk', 'kgl', 'kgm', 'kgn', 'kgo', 'kgp', 'kgq', 'kgr', 'kgs', 'kgt', 'kgu', 'kgv', 'kgw', 'kgx', 'kgy', 'kgz']\n",
      "['aligheur', 'bligheur', 'cligheur', 'dligheur', 'eligheur', 'fligheur', 'gligheur', 'hligheur', 'iligheur', 'jligheur', 'kligheur', 'lligheur', 'mligheur', 'nligheur', 'oligheur', 'pligheur', 'qligheur', 'rligheur', 'sligheur', 'tligheur', 'uligheur', 'vligheur', 'wligheur', 'xligheur', 'yligheur', 'zligheur', 'laigheur', 'lbigheur', 'lcigheur', 'ldigheur', 'leigheur', 'lfigheur', 'lgigheur', 'lhigheur', 'liigheur', 'ljigheur', 'lkigheur', 'lligheur', 'lmigheur', 'lnigheur', 'loigheur', 'lpigheur', 'lqigheur', 'lrigheur', 'lsigheur', 'ltigheur', 'luigheur', 'lvigheur', 'lwigheur', 'lxigheur', 'lyigheur', 'lzigheur', 'liagheur', 'libgheur', 'licgheur', 'lidgheur', 'liegheur', 'lifgheur', 'liggheur', 'lihgheur', 'liigheur', 'lijgheur', 'likgheur', 'lilgheur', 'limgheur', 'lingheur', 'liogheur', 'lipgheur', 'liqgheur', 'lirgheur', 'lisgheur', 'litgheur', 'liugheur', 'livgheur', 'liwgheur', 'lixgheur', 'liygheur', 'lizgheur', 'ligaheur', 'ligbheur', 'ligcheur', 'ligdheur', 'ligeheur', 'ligfheur', 'liggheur', 'lighheur', 'ligiheur', 'ligjheur', 'ligkheur', 'liglheur', 'ligmheur', 'lignheur', 'ligoheur', 'ligpheur', 'ligqheur', 'ligrheur', 'ligsheur', 'ligtheur', 'liguheur', 'ligvheur', 'ligwheur', 'ligxheur', 'ligyheur', 'ligzheur', 'lighaeur', 'lighbeur', 'lighceur', 'lighdeur', 'ligheeur', 'lighfeur', 'lighgeur', 'lighheur', 'lighieur', 'lighjeur', 'lighkeur', 'lighleur', 'lighmeur', 'lighneur', 'lighoeur', 'lighpeur', 'lighqeur', 'lighreur', 'lighseur', 'lighteur', 'lighueur', 'lighveur', 'lighweur', 'lighxeur', 'lighyeur', 'lighzeur', 'ligheaur', 'lighebur', 'lighecur', 'lighedur', 'ligheeur', 'lighefur', 'lighegur', 'lighehur', 'ligheiur', 'lighejur', 'lighekur', 'lighelur', 'lighemur', 'lighenur', 'ligheour', 'lighepur', 'lighequr', 'ligherur', 'lighesur', 'lighetur', 'ligheuur', 'lighevur', 'lighewur', 'lighexur', 'ligheyur', 'lighezur', 'ligheuar', 'ligheubr', 'ligheucr', 'ligheudr', 'ligheuer', 'ligheufr', 'ligheugr', 'ligheuhr', 'ligheuir', 'ligheujr', 'ligheukr', 'ligheulr', 'ligheumr', 'ligheunr', 'ligheuor', 'ligheupr', 'ligheuqr', 'ligheurr', 'ligheusr', 'ligheutr', 'ligheuur', 'ligheuvr', 'ligheuwr', 'ligheuxr', 'ligheuyr', 'ligheuzr', 'ligheura', 'ligheurb', 'ligheurc', 'ligheurd', 'ligheure', 'ligheurf', 'ligheurg', 'ligheurh', 'ligheuri', 'ligheurj', 'ligheurk', 'ligheurl', 'ligheurm', 'ligheurn', 'ligheuro', 'ligheurp', 'ligheurq', 'ligheurr', 'ligheurs', 'ligheurt', 'ligheuru', 'ligheurv', 'ligheurw', 'ligheurx', 'ligheury', 'ligheurz']\n"
     ]
    }
   ],
   "source": [
    "for word in M:\n",
    "    print(insert_letter(word, verbose=False))"
   ]
  },
  {
   "cell_type": "markdown",
   "id": "e704be89",
   "metadata": {},
   "source": [
    "### Edit one letter"
   ]
  },
  {
   "cell_type": "code",
   "execution_count": 208,
   "id": "c8404a18",
   "metadata": {},
   "outputs": [],
   "source": [
    "def edit_one_letter(word, allow_switches = True):\n",
    "    \"\"\"\n",
    "    Input:\n",
    "        word: the string/word for which we will generate all possible wordsthat are one edit away.\n",
    "    Output:\n",
    "        edit_one_set: a set of words with one possible edit. Please return a set. and not a list.\n",
    "    \"\"\"\n",
    "    \n",
    "    edit_one_set = set()\n",
    "    \n",
    "    # Use the previously implemented functions\n",
    "    deletes = delete_letter(word)\n",
    "    replaces = replace_letter(word)\n",
    "    inserts = insert_letter(word)\n",
    "    # Optionally include switches\n",
    "    if allow_switches:\n",
    "        switches = switch_letter(word)\n",
    "    else:\n",
    "        switches = []\n",
    "    \n",
    "    # Combine the results and convert to a set to eliminate duplicates\n",
    "    edit_one_set = set(deletes + replaces + inserts + switches)\n",
    "    \n",
    "    # return this as a set and not a list\n",
    "    return set(edit_one_set)"
   ]
  },
  {
   "cell_type": "code",
   "execution_count": 209,
   "id": "edc70cae",
   "metadata": {},
   "outputs": [
    {
     "name": "stdout",
     "output_type": "stream",
     "text": [
      "{'mu', 'mi', 'eml', 'mcl', 'mr', 'mlr', 'mn', 'wl', 'nml', 'ol', 'cml', 'bl', 'pl', 'fml', 'mbl', 'mxl', 'mlx', 'mo', 'mle', 'me', 'mli', 'uml', 'mln', 'mx', 'mnl', 'mlo', 'mv', 'mql', 'mzl', 'mlf', 'ms', 'mg', 'oml', 'mk', 'zl', 'mlb', 'vml', 'xl', 'mjl', 'el', 'bml', 'mll', 'mdl', 'lm', 'mw', 'mtl', 'mlz', 'mlt', 'mt', 'dml', 'mly', 'wml', 'jml', 'm', 'my', 'mld', 'mgl', 'msl', 'mlw', 'myl', 'mla', 'tl', 'mlj', 'qml', 'mls', 'sml', 'vl', 'ma', 'mf', 'mp', 'mb', 'kl', 'mwl', 'gl', 'gml', 'ul', 'mlm', 'mlh', 'mml', 'mlp', 'mul', 'll', 'l', 'pml', 'yml', 'mil', 'xml', 'rml', 'yl', 'rl', 'mlk', 'mc', 'zml', 'mm', 'mlg', 'fl', 'kml', 'sl', 'mpl', 'mel', 'mrl', 'mj', 'mfl', 'ql', 'il', 'aml', 'nl', 'hml', 'mlq', 'mal', 'mvl', 'lml', 'mkl', 'jl', 'dl', 'al', 'mz', 'mq', 'hl', 'mol', 'tml', 'mlu', 'mlc', 'mhl', 'mh', 'iml', 'md', 'mlv', 'cl'}\n",
      "{'ginz', 'sin', 'ginf', 'givn', 'giin', 'jgin', 'gvin', 'gbin', 'lgin', 'gtin', 'gxin', 'gihn', 'ugin', 'iin', 'gifn', 'xin', 'gie', 'gmin', 'dgin', 'ign', 'gijn', 'giny', 'ggin', 'gnn', 'ygin', 'gitn', 'ginr', 'gidn', 'gif', 'gix', 'gln', 'bin', 'gyin', 'agin', 'gino', 'egin', 'gil', 'gis', 'glin', 'gina', 'jin', 'gig', 'gizn', 'gii', 'yin', 'gink', 'gir', 'giy', 'hgin', 'pgin', 'giln', 'ginq', 'gign', 'cin', 'gini', 'zgin', 'ginl', 'gon', 'oin', 'xgin', 'gmn', 'ginn', 'gtn', 'gia', 'ginw', 'gikn', 'pin', 'gid', 'guin', 'gibn', 'giw', 'gpin', 'gcin', 'ain', 'nin', 'gqin', 'giyn', 'ginj', 'rin', 'gcn', 'gun', 'gicn', 'gan', 'gian', 'ginm', 'min', 'grn', 'gins', 'gim', 'giz', 'gi', 'gwin', 'ein', 'ginh', 'gvn', 'gixn', 'gn', 'gint', 'gfn', 'gzin', 'wgin', 'vin', 'gni', 'gzn', 'gio', 'giqn', 'gkin', 'gjn', 'kin', 'cgin', 'tin', 'igin', 'gisn', 'giun', 'ginc', 'gdn', 'ghn', 'giwn', 'sgin', 'gyn', 'gib', 'zin', 'giu', 'vgin', 'ginx', 'fgin', 'gen', 'tgin', 'ging', 'din', 'gkn', 'gain', 'gjin', 'giv', 'gwn', 'in', 'giq', 'gein', 'gic', 'gind', 'girn', 'gion', 'win', 'ginb', 'gdin', 'ogin', 'rgin', 'gimn', 'gien', 'gij', 'goin', 'gsn', 'gsin', 'grin', 'gih', 'gine', 'gbn', 'qin', 'kgin', 'lin', 'ghin', 'fin', 'gipn', 'bgin', 'gfin', 'ginu', 'ggn', 'gpn', 'git', 'mgin', 'gqn', 'qgin', 'gip', 'gnin', 'ginp', 'gik', 'hin', 'ngin', 'uin', 'gxn', 'ginv'}\n"
     ]
    }
   ],
   "source": [
    "for word in M[2 : 4]:\n",
    "    print(edit_one_letter(word, allow_switches = True))"
   ]
  },
  {
   "cell_type": "markdown",
   "id": "c5fb8128",
   "metadata": {},
   "source": [
    "### Edit two letters"
   ]
  },
  {
   "cell_type": "code",
   "execution_count": 210,
   "id": "d305cbd0",
   "metadata": {},
   "outputs": [],
   "source": [
    "def edit_two_letters(word, allow_switches = True):\n",
    "    '''\n",
    "    Input:\n",
    "        word: the input string/word \n",
    "    Output:\n",
    "        edit_two_set: a set of strings with all possible two edits\n",
    "    '''\n",
    "    \n",
    "    edit_two_set = set()\n",
    "    \n",
    "    # First, get all words that are one edit away\n",
    "    edit_one_set = edit_one_letter(word, allow_switches)\n",
    "    \n",
    "    # Then, for each of these words, get all words that are one edit away from them\n",
    "    for edit_one_word in edit_one_set:\n",
    "        edit_two_temp_set = edit_one_letter(edit_one_word, allow_switches)\n",
    "        \n",
    "        # Combine the results using union\n",
    "        edit_two_set = edit_two_set.union(edit_two_temp_set)\n",
    "    \n",
    "    # Make sure to include the first edit set as well to capture all possibilities\n",
    "    edit_two_set = edit_two_set.union(edit_one_set)\n",
    "    \n",
    "    # return this as a set instead of a list\n",
    "    return set(edit_two_set)"
   ]
  },
  {
   "cell_type": "code",
   "execution_count": 211,
   "id": "1d47db0b",
   "metadata": {},
   "outputs": [
    {
     "name": "stdout",
     "output_type": "stream",
     "text": [
      "{'', 'dmlz', 'mlfg', 'mhvl', 'ile', 'wl', 'tme', 'mqa', 'url', 'oqml', 'mdlb', 'vmul', 'zmy', 'smj', 'amu', 'zmal', 'plg', 'wmls', 'lrm', 'nv', 'qqml', 'mljh', 'xjl', 'ej', 'mwlt', 'idl', 'xmlt', 'kt', 'dc', 'zfl', 'elml', 'mff', 'bmlr', 'amkl', 'cmil', 'mti', 'emlc', 'omil', 'jx', 'ymx', 'mlau', 'pmsl', 'ruml', 'dmx', 'mjlm', 'tmu', 'mjs', 'beml', 'nmlj', 'lzl', 'vmo', 'mja', 'ivl', 'pcml', 'dk', 'mlxm', 'cmld', 'mlja', 'ijml', 'mnm', 'zmlw', 'mlf', 'ymd', 'nj', 'zgml', 'mlbp', 'zmg', 'mlkc', 'mflg', 'vmh', 'mjlz', 'mym', 'mlkl', 'ucl', 'wgl', 'myo', 'pmv', 'alw', 'lmy', 'cu', 'mlik', 'mlkj', 'mlvq', 'hlz', 'slp', 'ce', 'mgly', 'mlwc', 'omn', 'kmlh', 'cfl', 'mkk', 'mdml', 'zmj', 'eqml', 'xlj', 'kmfl', 'mbld', 'mglh', 'n', 'vhml', 'amul', 'mud', 'aeml', 'nlq', 'fsl', 'hmli', 'nt', 'iq', 'nzl', 'olq', 'hgml', 'mjbl', 'mulz', 'mylp', 'dlk', 'mrla', 'tlq', 'tkml', 'myql', 'rmz', 'mlrh', 'ppl', 'mdlu', 'mklp', 'zms', 'mtw', 'blc', 'vld', 'cv', 'vvml', 'mvlh', 'mug', 'ebl', 'dlj', 'tmlw', 'mse', 'hv', 'cmj', 'zlb', 'pkml', 'imc', 'smlx', 'qyml', 'mms', 'inml', 'abl', 'milx', 'xmlw', 'tmtl', 'uma', 'lo', 'rz', 'mhlk', 'bx', 'pfml', 'miml', 'imjl', 'eal', 'moln', 'mzll', 'molr', 'mrvl', 'lp', 'ymly', 'zml', 'mlro', 'bel', 'nmyl', 'msli', 'xmlf', 'mljy', 'jmh', 'rtml', 'fmln', 'xmly', 'cla', 'mlmq', 'kmle', 'bmy', 'mtrl', 'hu', 'ws', 'mibl', 'fmal', 'mlhs', 'au', 'vmwl', 'miwl', 'fwml', 'mplv', 'mesl', 'majl', 'jmb', 'hj', 'tbl', 'kmo', 'elf', 'pxml', 'ksml', 'qd', 'cmol', 'jrl', 'dxl', 'yll', 'zmfl', 'ir', 'mole', 'ppml', 'fdml', 'erl', 'vmlz', 'kjl', 'mhl', 'milr', 'malo', 'wmdl', 'glw', 'qmjl', 'mvql', 'imul', 'gmu', 'mulb', 'cmy', 'mlkm', 'mbh', 'qlk', 'cmlm', 'mqgl', 'bd', 'mjal', 'hmbl', 'bnl', 'mxlv', 'mlyt', 'alk', 'mgc', 'jol', 'pma', 'mlou', 'wlb', 'tal', 'px', 'uuml', 'emml', 'qli', 'mihl', 'zmz', 'ncml', 'uul', 'klt', 'mhle', 'mqe', 'mtlt', 'zzl', 'mrq', 'mujl', 'mlav', 'nmkl', 'umv', 'mbul', 'mey', 'mwly', 'imq', 'mclg', 'qmpl', 'mrlm', 'cmr', 'fpl', 'pfl', 'mmtl', 'ei', 'mbcl', 'mlfc', 'mlyy', 'iyl', 'blh', 'syl', 'mndl', 'mali', 'bmlz', 'asl', 'ulz', 'mdlx', 'ymkl', 'melm', 'mgn', 'male', 'umkl', 'smla', 'iul', 'mkil', 'mip', 'emyl', 'muv', 'dli', 'maq', 'sa', 'pmlb', 'xp', 'bmw', 'muyl', 'tlv', 'lmhl', 'mblj', 'mlrr', 'mqc', 'mold', 'mfml', 'dmrl', 'mqwl', 'mlym', 'imlh', 'nal', 'pmb', 'elt', 'myr', 'wmlr', 'mlvb', 'vll', 'mlsa', 'joml', 'deml', 'mgh', 'se', 'fyl', 'umh', 'ljm', 'mzd', 'emc', 'en', 'mlti', 'smlm', 'tle', 'mlss', 'ggl', 'emvl', 'mwc', 'malp', 'mjq', 'zaml', 'sme', 'mblx', 'hmlg', 'jlo', 'sd', 'vmr', 'pmvl', 'mlxk', 'ual', 'gcl', 'mhlf', 'zlu', 'mlki', 'ao', 'kmtl', 'umt', 'mfj', 'ccl', 'mlqa', 'mglj', 'mqv', 'mqp', 'qmsl', 'gmpl', 'dh', 'elu', 'mfxl', 'vjml', 'mgml', 'hmzl', 'mglo', 'mtb', 'yo', 'tmk', 'jmll', 'mrsl', 'mlmv', 'lrml', 'blz', 'mtlx', 'blb', 'flt', 'mlna', 'ymr', 'mlgo', 'sjml', 'vlb', 'roml', 'imlt', 'hmld', 'mkg', 'mlnt', 'sk', 'muq', 'vbl', 'mvln', 'mflk', 'rrml', 'ale', 'ciml', 'mjm', 'mbol', 'eld', 'mdlt', 'lmsl', 'xqml', 'muj', 'emol', 'in', 'lmz', 'bmu', 'smkl', 'sxl', 'mcla', 'zli', 'fmql', 'paml', 'mox', 'umlc', 'mlwe', 'nlk', 'cmle', 'rmlc', 'imln', 'mtlc', 'ai', 'bcml', 'mhm', 'slt', 'amln', 'mhlx', 'upml', 'mzg', 'hlm', 'fbml', 'wmi', 'mflw', 'mzln', 'sql', 'mltt', 'cmq', 'mnel', 'bmf', 'mlzp', 'mxlq', 'mkt', 'kmlt', 'mvfl', 'lu', 'rvml', 'mlmc', 'kmkl', 'lln', 'dmlb', 'mby', 'umo', 'khl', 'zmq', 'fmnl', 'vmlx', 'mr', 'dyl', 'io', 'mdlj', 'amlv', 'mlfi', 'cmel', 'tdl', 'umlt', 'qdl', 'psml', 'kal', 'ymlf', 'mqq', 'wlj', 'pmzl', 'mkd', 'cnl', 'imil', 'ekml', 'gel', 'ok', 'jll', 'qhml', 'zmla', 'emln', 'ww', 'mwlz', 'wmql', 'ps', 'miy', 'qmls', 'zmlx', 'gkl', 'hmln', 'mnlq', 'mlqp', 'dmle', 'hmly', 'fi', 'mdlv', 'mcb', 'msd', 'gmol', 'mnsl', 'mncl', 'mfy', 'tmc', 'zh', 'mnlh', 'bli', 'alp', 'hmal', 'mfgl', 'ng', 'mzdl', 'mvg', 'lmlc', 'nmlw', 'mllm', 'glv', 'ewl', 'wk', 'mezl', 'mdlf', 'mlgm', 'rsl', 'bxml', 'mur', 'cf', 'lh', 'prl', 'olh', 'df', 'rs', 'mlhp', 'cmlv', 'bmb', 'eeml', 'mlls', 'llp', 'ymp', 'pmlq', 'fmlf', 'mqo', 'dnl', 'pmg', 'vlv', 'mnlb', 'mzhl', 'muxl', 'wcml', 'mzc', 'xhl', 'us', 'mlgy', 'mwd', 'gmtl', 'emel', 'blt', 'mlep', 'kmpl', 'ycml', 'bq', 'hnl', 'mjlk', 'mlku', 'jmlt', 'wmrl', 'ysml', 'ggml', 'zsl', 'ni', 'mlrz', 'mlj', 'mvlr', 'mlji', 'zmw', 'smd', 'emlv', 'imal', 'imll', 'mtz', 'xtml', 'cmlc', 'oxml', 'mwv', 'pmln', 'omlg', 'mmd', 'pmrl', 'mxz', 'mxdl', 'mnq', 'xn', 'f', 'gly', 'ohml', 'smr', 'numl', 'pdl', 'zt', 'uls', 'jh', 'mxul', 'mlui', 'mfln', 'mmxl', 'dmb', 'mxlo', 'ks', 'mun', 'gmla', 'mlua', 'tql', 'xcl', 'mclj', 'ykl', 'jmvl', 'meml', 'mzr', 'mqg', 'hg', 'mc', 'nvl', 'kq', 'qlq', 'd', 'mfx', 'usml', 'vmil', 'gmgl', 'mlqc', 'mqjl', 'wwl', 'mrel', 'mlsv', 'nkml', 'lmql', 'mbnl', 'mnzl', 'ylf', 'ifml', 'pmbl', 'mdll', 'mlq', 'mjlr', 'wn', 'jmlh', 'hmb', 'orml', 'bnml', 'kvml', 'nmy', 'yy', 'gmzl', 'sf', 'imm', 'amvl', 'cmbl', 'mslx', 'mpa', 'mler', 'hmc', 'g', 'nld', 'mwlg', 'jal', 'vaml', 'mbs', 'lmk', 'qmly', 'mlgw', 'vh', 'mcv', 'mlbo', 'mltq', 'eg', 'bjml', 'mywl', 'mbbl', 'er', 'ho', 'mmla', 'molk', 'nmv', 'luml', 'mlwo', 'mjul', 'lms', 'wmlh', 'emql', 'nel', 'matl', 'klw', 'mlhg', 'smml', 'lmml', 'mlxu', 'ilb', 'olz', 'mrln', 'cyml', 'mwy', 'lsml', 'mulo', 'ymlq', 'uf', 'mrql', 'zvl', 'mlsi', 'nlg', 'qmq', 'mph', 'mli', 'mwjl', 'xlq', 'mlfr', 'mlok', 'wzml', 'ye', 'gmwl', 'lxml', 'nyl', 'mcnl', 'gr', 'glc', 'jhml', 'nqml', 'j', 'mluv', 'emla', 'umlq', 'mmvl', 'ri', 'dv', 'rlr', 'wtl', 'abml', 'mlwy', 'fqml', 'fmul', 'mvk', 'gmlc', 'rk', 'tmlb', 'mdjl', 'vlj', 'yls', 'gvml', 'mxk', 'pmy', 'umlb', 'vmd', 'mlfu', 'bmjl', 'hwml', 'ktml', 'rmol', 'qh', 'mply', 'ump', 'pls', 'tlp', 'tlr', 'bjl', 'mlzm', 'gkml', 'slo', 'mlz', 'dlq', 'vxl', 'mlce', 'pj', 'zmt', 'dmel', 'y', 'uzl', 'mbls', 'val', 'mtm', 'emo', 'mlvg', 'mldb', 'pmz', 'bmlq', 'it', 'mhjl', 'rlw', 'mahl', 'mrrl', 'mlpb', 'ebml', 'mplr', 'mklx', 'meo', 'rmlp', 'umlo', 'clw', 'mled', 'qfml', 'mdtl', 'omal', 'mekl', 'hvl', 'mjli', 'vmlk', 'mlst', 'wlt', 'oxl', 'mldm', 'agl', 'msa', 'myv', 'emb', 'omla', 'moz', 'mlrv', 'mcbl', 'blj', 'lxm', 'xt', 'ldml', 'lmvl', 'mulv', 'omlf', 'nlc', 'ymlx', 'mldk', 'ymbl', 'ombl', 'mmzl', 'melu', 'lnm', 'flc', 'umfl', 'hlu', 'smv', 'kdl', 'c', 'jlu', 'mldj', 'tlt', 'imgl', 'zmlp', 'rlx', 'rwl', 'rmxl', 'mlci', 'bmp', 'amlo', 'vmkl', 'mdil', 'qld', 'bwl', 'zmo', 'heml', 'qy', 'mleo', 'fu', 'mzel', 'ew', 'ylc', 'nmcl', 'kmhl', 'nmu', 'ftml', 'glx', 'bmol', 'myvl', 'uk', 'zmv', 'vu', 'mwla', 'zmlh', 'mril', 'mlmx', 'keml', 'cql', 'lmlz', 'mom', 'mrlj', 'ea', 'ds', 'ah', 'mlew', 'pw', 'aoml', 'mhcl', 'zm', 'ymlc', 'rh', 'mlur', 'mwp', 'jw', 'jxml', 'uil', 'mgf', 'gll', 'rmhl', 'lmm', 'hs', 'xmyl', 'elj', 'mlbn', 'jmdl', 'mlxb', 'mlcj', 'mlcp', 'mlcq', 'fh', 'xoml', 'dmu', 'xld', 'meq', 'tyml', 'kll', 'msw', 'omlv', 'syml', 'fll', 'xmul', 'clq', 'ogml', 'wld', 'kmrl', 'omw', 'kel', 'ax', 'mfnl', 'xmll', 'mnv', 'mldd', 'mplc', 'cmln', 'kmcl', 'mjc', 'br', 'vmj', 'qlt', 'oy', 'mva', 'wnml', 'fdl', 'mlkr', 'mlii', 'bmyl', 'lyl', 'mbc', 'v', 'fmlk', 'ih', 'mlfe', 'mra', 'zmvl', 'bcl', 'snml', 'gmql', 'mdls', 'mv', 'mtlj', 'ayml', 'mrlg', 'mkle', 'mkpl', 'kmv', 'mrlc', 'vma', 'pwml', 'vmnl', 'omql', 'xtl', 'myld', 'dmr', 'imlr', 'mbz', 'mzq', 'mkjl', 'molg', 'emu', 'vcml', 'nlz', 'xmdl', 'mnul', 'qlb', 'mlzj', 'ulq', 'wv', 'merl', 'uxl', 'bmml', 'wmll', 'mlng', 'wll', 'wo', 'epl', 'wln', 'veml', 'mlcb', 'gmnl', 'hrl', 'mt', 'jmzl', 'mvrl', 'mqlf', 'mlbz', 'malh', 'mrlp', 'amj', 'miln', 'mlrc', 'mtlp', 'mly', 'wsl', 'gmln', 'wmh', 'sy', 'xdml', 'mxq', 'nmsl', 'mflf', 'vmlj', 'uoml', 'melh', 'myx', 'mgcl', 'mhlp', 'hmf', 'myl', 'tmlq', 'pmd', 'eul', 'umb', 'mvn', 'tt', 'zma', 'mmc', 'dlu', 'ac', 'ymil', 'lzml', 'mqlm', 'mnfl', 'vdl', 'zmyl', 'ols', 'mile', 'hly', 'moel', 'wmml', 'dmlk', 'sle', 'amw', 'tol', 'emlg', 'mlih', 'xmxl', 'emm', 'imh', 'myt', 'mlyv', 'xmlo', 'nfml', 'qmp', 'vmp', 'gnl', 'iwl', 'lmln', 'dwl', 'mdlm', 'wmlm', 'amv', 'emn', 'lly', 'mqnl', 'qp', 'mct', 'ev', 'qlml', 'ymll', 'sl', 'am', 'ylh', 'gal', 'wsml', 'fme', 'myln', 'miul', 'dmkl', 'mylu', 'mxh', 'rfl', 'elr', 'jmf', 'jmml', 'hmjl', 'qmlk', 'mwle', 'mqle', 'smll', 'eh', 'mlqs', 'smg', 'rpl', 'mggl', 'mgil', 'nmlr', 'jmq', 'mvt', 'emul', 'mlwz', 'ylq', 'hmlu', 'ajl', 'jyl', 'mlfq', 'mkfl', 'is', 'mljx', 'emt', 'xxl', 'mlvd', 'mrol', 'zdml', 'jkl', 'mcly', 'pgml', 'jlw', 'miv', 'yp', 'mlhr', 'mdc', 'dmwl', 'cmkl', 'blp', 'jmnl', 'mha', 'emlf', 'mlvm', 'mmul', 'cl', 'kmlb', 'va', 'mjlc', 'mi', 'hmo', 'ddl', 'mdj', 'malv', 'mgpl', 'tmll', 'mlmd', 'ge', 'yu', 'vmll', 'del', 'gqml', 'la', 'mylh', 'jxl', 'mlfk', 'mful', 'mlyj', 'rv', 'nlv', 'cgl', 'xql', 'otml', 'slk', 'mrlk', 'emlw', 'x', 'emlm', 'mlsf', 'uh', 'hd', 'mot', 'xmsl', 'ume', 'mlct', 'mig', 'tmlc', 'kmdl', 'mfkl', 'ygml', 'pmle', 'omlu', 'bmh', 'ple', 'wmpl', 'ilh', 'niml', 'cmll', 'ijl', 'mso', 'bmlj', 'qmt', 'blk', 'gmfl', 'hzl', 'tmlj', 'jj', 'qln', 'a', 'dwml', 'ilq', 'umz', 'mvf', 'jmy', 'dcl', 'cw', 'mgtl', 'myul', 'mlxr', 'mqu', 'uyml', 'mij', 'xul', 'mjil', 'llv', 'hmt', 'ily', 'mzi', 'bsml', 'mvx', 'hmg', 'mjkl', 'ekl', 'bsl', 'knml', 'qmlf', 'zql', 'mljo', 'mds', 'amp', 'iil', 'mlmy', 'amn', 'tmlf', 'yb', 'rmln', 'umi', 'mkn', 'elq', 'fmlh', 'sb', 'mvcl', 'ymq', 'jlf', 'mik', 'cmql', 'pel', 'gmd', 'nbml', 'mstl', 'wfml', 'hyml', 'gi', 'mgl', 'lmr', 'mlgx', 'mcj', 'dmlx', 'flml', 'mlpf', 'qmel', 'xmfl', 'mpkl', 'mclr', 'cn', 'dmtl', 'mnc', 'mlcx', 'blu', 'dle', 'cmlx', 'th', 'uly', 'mltw', 'xgl', 'mlaa', 'hm', 'mfb', 'qr', 'axml', 'mkll', 'mbw', 'mgu', 'aaml', 'mhx', 'hmpl', 'vt', 'gmle', 'nmzl', 'zlt', 'fmls', 'mmg', 'vzml', 'vcl', 'ymlp', 'mhli', 'marl', 'gmil', 'brml', 'vmlb', 'mmil', 'tmrl', 'aa', 'sms', 'bmgl', 'sul', 'mhkl', 'rmd', 'llm', 'mley', 'txml', 'ipml', 'aj', 'meln', 'gwml', 'mep', 'mlhu', 'mljn', 'dmlw', 'mely', 'wmgl', 'flu', 'mlnh', 'fg', 'ty', 'vmlt', 'kms', 'ils', 'olr', 'zg', 'mlvw', 'ql', 'pmul', 'mrlo', 'dmgl', 'mgld', 'nl', 'kmn', 'mvli', 'mlom', 'xmg', 'yld', 'mvl', 'mlen', 'med', 'nul', 'ilz', 'jm', 'dmd', 'mco', 'fpml', 'cmhl', 'otl', 'mtv', 'mdnl', 'mlvy', 'mllt', 'mmlf', 'mzyl', 'msm', 'wmlv', 'miz', 'mjzl', 'osl', 'smlo', 'mewl', 'vmw', 'kmll', 'jmm', 'zfml', 'ymsl', 'bs', 'nmwl', 'mrm', 'pll', 'ln', 'amal', 'maol', 'timl', 'lwm', 'tpl', 'wgml', 'cmlq', 'cmul', 'amlq', 'rd', 'omel', 'clk', 'mzjl', 'wmr', 'vmz', 'umls', 'imlf', 'mtll', 'tlj', 'cln', 'mdlg', 'tmql', 'mjjl', 'ymnl', 'euml', 'wmnl', 'mflj', 'omlz', 'nmld', 'ymcl', 'mta', 'alh', 'rpml', 'mlid', 'q', 'jmlf', 'mhel', 'mxlf', 'hql', 'mcml', 'zmlt', 'mlfn', 'mwkl', 'ylo', 'wwml', 'umdl', 'jlt', 'fma', 'ylk', 'mlpn', 'mlyo', 'mkf', 'hlg', 'jul', 'zmel', 'mxlp', 'rmyl', 'mgli', 'ueml', 'kcml', 'mvzl', 'zb', 'mmy', 'mvbl', 'lmul', 'mljt', 'fmw', 'mg', 'olw', 'mbk', 'plj', 'mwxl', 'qmx', 'mhol', 'ck', 'omlq', 'zmwl', 'lm', 'mvd', 'mcol', 'dlb', 'qmlo', 'spl', 'hmsl', 'mjh', 'mlbm', 'rlc', 'mglf', 'nu', 'mlwh', 'qmld', 'myj', 'smx', 'tk', 'pmil', 'r', 'xsml', 'rla', 'mlha', 'gmrl', 'mlhy', 'llh', 'imj', 'min', 'lj', 'mir', 'avml', 'smcl', 'mbli', 'mlxp', 'ilj', 'ejml', 'amm', 'mzlf', 'myd', 'yvml', 'ajml', 'mjw', 'mrp', 'mla', 'lme', 'tlf', 'dkl', 'mljm', 'uvl', 'mlhx', 'nx', 'mllo', 'ymgl', 'mko', 'qmlc', 'slq', 'mmle', 'fmbl', 'imla', 'omi', 'jnl', 'izml', 'cmlb', 'ma', 'fmh', 'zoml', 'gmml', 'xlw', 'nll', 'lcm', 'mwpl', 'mzle', 'mluj', 'mno', 'dmlo', 'zu', 'tkl', 'hi', 'amx', 'sxml', 'sm', 'wjl', 'mjsl', 'nhml', 'mnrl', 'amcl', 'pmn', 'mlmb', 'mvlk', 'xlr', 'rlg', 'nmla', 'wmlc', 'mlwr', 'vjl', 'gsl', 'imlg', 'tmlx', 'bmq', 'mqn', 'fl', 'mlhn', 'tp', 'mflm', 'fn', 'mbo', 'mkld', 'mkbl', 'foml', 'tmol', 'znml', 'malw', 'rmcl', 'xmlx', 'mho', 'khml', 'mpr', 'glml', 'mgp', 'rfml', 'slm', 'gmly', 'mhh', 'mmml', 'jl', 'rkl', 'iql', 'tzl', 'mdo', 'vmjl', 'mlc', 'wli', 'z', 'smlh', 'mhlm', 'mrbl', 'xmpl', 'mlre', 'hpl', 'cmsl', 'pmli', 'masl', 'tvl', 'ael', 'md', 'mnls', 'rmg', 'mlij', 'mfle', 'mej', 'cuml', 'cmu', 'gxl', 're', 'zd', 'rmld', 'mlmi', 'miil', 'qme', 'nmly', 'jmg', 'bgml', 'mlxo', 'xmlc', 'mnql', 'mxlj', 'qrl', 'ixml', 'xeml', 'nmvl', 'gmh', 'cmlh', 'vmc', 'ucml', 'jbl', 'ryml', 'lw', 'cmlg', 'msyl', 'mplu', 'alb', 'mdu', 'jmt', 'hn', 'mwlb', 'mwa', 'xmk', 'mupl', 'imt', 'pg', 'ek', 'uaml', 'wmlq', 'ylz', 'wt', 'ymlw', 'hmy', 'lmlt', 'micl', 'dmul', 'ojml', 'vsml', 'ymt', 'qmol', 'flx', 'mdln', 'np', 'vc', 'kmlf', 'tmle', 'de', 'mtr', 'mwi', 'umll', 'gb', 'fmx', 'ycl', 'pf', 'pmlr', 'hmul', 'mgnl', 'mljd', 'zlr', 'mlfa', 'mzlg', 'melf', 'id', 'hmlt', 'ff', 'xmlg', 'mfli', 'mlwn', 'mwhl', 'mte', 'mpi', 'mcu', 'ehml', 'mvp', 'mqlu', 'meh', 'ru', 'wmf', 'wmx', 'slg', 'fvml', 'milq', 'nmlk', 'pbml', 'vbml', 'nnml', 'mlxx', 'mlfb', 'tv', 'zlj', 'mcdl', 'pmf', 'mysl', 'xsl', 'mlsp', 'milg', 'mwln', 'mgdl', 'mldy', 'uy', 'imli', 'gmlv', 's', 'mlgt', 'kcl', 'smlj', 'emr', 'pmll', 'mglt', 'csl', 'ymlm', 'elg', 'rmwl', 'mqx', 'lx', 'wdml', 'ulh', 'mdsl', 'cmg', 'mglg', 'hel', 'mlzc', 'pk', 'moyl', 'qmm', 'msxl', 'mlzw', 'mrl', 'moql', 'mdq', 'mlhw', 'mltn', 'imlw', 'rmlf', 'mgul', 'liml', 'wmu', 'vr', 'mlnl', 'msrl', 'kbl', 'igl', 'nlj', 'glq', 'klr', 'mbj', 'lkm', 'hxml', 'fle', 'zal', 'cmlu', 'ygl', 'mhla', 'sq', 'bk', 'hmj', 'madl', 'xkl', 'evml', 'mlbe', 'tml', 'mitl', 'molv', 'xmbl', 'pmh', 'mytl', 'doml', 'mleg', 'brl', 'smpl', 'bc', 'ymo', 'mzol', 'mkel', 'unml', 'gmlr', 'jma', 'yjml', 'mqsl', 'lmlu', 'bwml', 'amlh', 'mscl', 'qal', 'zuml', 'mlcy', 'rgl', 'msfl', 'smil', 'ha', 'kp', 'fk', 'mwol', 'hmh', 'oyl', 'myc', 'pul', 'mzla', 'ypl', 'moul', 'noml', 'mxy', 'wmli', 'ymdl', 'smjl', 'mols', 'awl', 'tmw', 'wpml', 'iuml', 'mwlp', 'qu', 'smlp', 'jrml', 'cmb', 'mlml', 'qla', 'mea', 'mils', 'jmlo', 'cmf', 'mucl', 'tu', 'zmld', 'mlkx', 'mib', 'nmc', 'uw', 'mayl', 'mclq', 'mwlx', 'mxw', 'mlvo', 'sdl', 'mral', 'oal', 'hjl', 'mmq', 'mnlm', 'czml', 'jvl', 'mslo', 'ymhl', 'pv', 'vmtl', 'mell', 'gmn', 'ahl', 'mxa', 'mlbi', 'ejl', 'kql', 'mpzl', 'jvml', 'lmc', 'mulg', 'tpml', 'dmj', 'msx', 'yc', 'okl', 'zmli', 'uhml', 'mhf', 'lmyl', 'yma', 'mlnz', 'mlat', 'zmd', 'qmla', 'mwql', 'omrl', 'ril', 'mlqd', 'hmlr', 'dlo', 'qwml', 'so', 'molo', 'qq', 'mdh', 'xnml', 'djml', 'uj', 'dmp', 'yly', 'malq', 'cmly', 'mloy', 'omsl', 'rq', 'qmv', 'mljj', 'xmal', 'kmol', 'mxlg', 'hmll', 'mjly', 'e', 'mljs', 'amsl', 'qj', 'mclx', 'gmdl', 'jlk', 'nmb', 'mlzi', 'mqal', 'mzld', 'olg', 'mcy', 'ulx', 'lum', 'uld', 'i', 'mlsd', 'fs', 'zil', 'kzml', 'mbr', 'cms', 'yql', 'wu', 'sld', 'mlrw', 'omfl', 'rmlt', 'bvml', 'st', 'dqml', 'mvpl', 'mdi', 'qmml', 'xj', 'mlni', 'hmlo', 'wxml', 'vrml', 'gli', 'wmlj', 'pzml', 'omld', 'mxc', 'seml', 'mlht', 'rl', 'wr', 'ozl', 'dmw', 'mlaj', 'qa', 'umcl', 'jmql', 'xmla', 'omk', 'imml', 'vq', 'mrlr', 'mblo', 'ool', 'melj', 'zp', 'ymml', 'mty', 'hmlq', 'alc', 'myk', 'mlmf', 'fal', 'gmx', 'rb', 'hmle', 'mqlv', 'rtl', 'mlsg', 'lv', 'tmly', 'mldx', 'mjel', 'isl', 'di', 'cmdl', 'mlxs', 'jmo', 'jyml', 'qwl', 'mhlb', 'pmr', 'mnw', 'mirl', 'mbu', 'mpu', 'nzml', 'umal', 'ymxl', 'mlqn', 'qmfl', 'wle', 'xmol', 'sla', 'maml', 'mial', 'bu', 'old', 'mltv', 'rrl', 'lmlp', 'amql', 'vxml', 'dsl', 'mlnp', 'jmil', 'utml', 'imw', 'mnld', 'mnlt', 'rm', 'qoml', 'mlnc', 'xlm', 'tma', 'gh', 'mllx', 'tlg', 'hmlv', 'mgv', 'mkli', 'msc', 'mrlz', 'tqml', 'xrml', 'mlx', 'mtln', 'mgll', 'bma', 'pcl', 'gt', 'kmly', 'vmld', 'umld', 'mzlp', 'mlcw', 'qmz', 'muzl', 'xaml', 'mlco', 'tg', 'rmml', 'mlgl', 'vmlm', 'yhml', 'xlo', 'mldl', 'mmld', 'mlqe', 'wlz', 'wmxl', 'msnl', 'bmlw', 'qgml', 'umlj', 'mwll', 'gmlh', 'mpd', 'vml', 'mvh', 'ymv', 'mqlj', 'hmdl', 'xmf', 'mqlh', 'smu', 'mhsl', 'mwzl', 'qkl', 'omx', 'zz', 'dlt', 'umk', 'gma', 'mswl', 'mlbv', 'fnml', 'jmlu', 'wrl', 'rmx', 'rjl', 'smc', 'mrr', 'mnml', 'amle', 'smlz', 'mltk', 'ky', 'whml', 'klg', 'mlcr', 'mldv', 'mlpg', 'mrli', 'gtml', 'msls', 'wmcl', 'xg', 'mlzt', 'qf', 'tw', 'moal', 'omu', 'ikl', 'mllq', 'jlc', 'msy', 'ymjl', 'mlxg', 'mcgl', 'mls', 'qmg', 'mclp', 'mgw', 'hk', 'kmul', 'mme', 'kmln', 'mnlo', 'lq', 'mawl', 'qn', 'megl', 'ak', 'esml', 'kmnl', 'ptml', 'mlse', 'mlmk', 'yzl', 'mlp', 'vmel', 'mntl', 'flf', 'mps', 'lqm', 'mro', 'wmz', 'sgml', 'omh', 'qmll', 'milt', 'tzml', 'mlrm', 'qmbl', 'ca', 'muil', 'azml', 'mhd', 'mlbb', 'mlue', 'mulj', 'zmgl', 'rma', 'ykml', 'dmdl', 'pmc', 'wlg', 'mrs', 'jq', 'ub', 'mluu', 'mljc', 'zmlu', 'je', 'dmm', 'mldc', 'ltl', 'mckl', 'mnlx', 'ezl', 'vla', 'xlp', 'moq', 'xla', 'mplh', 'zpml', 'hbl', 'fgl', 'wmjl', 'hz', 'ka', 'qlx', 'moc', 'wlp', 'mlvc', 'mpf', 'mlcm', 'mslq', 'mtld', 'umlv', 'rmw', 'amll', 'hmk', 'yqml', 'mlyx', 'alg', 'ams', 'wmkl', 'mlao', 'mtul', 'molc', 'sll', 'qt', 'mqli', 'ie', 'mzlx', 'slv', 'mlne', 'mwf', 'msul', 'meul', 'mlxz', 'hmx', 'jmjl', 'mlcu', 'vg', 'hdl', 'klz', 'hlf', 'imrl', 'mow', 'emle', 'icl', 'xls', 'lmtl', 'jmp', 'vb', 'ima', 'kmy', 'xdl', 'mvz', 'mvel', 'olx', 'mqvl', 'omzl', 'js', 'vmla', 'mlod', 'rmlz', 'kmml', 'rmul', 'imlz', 'yyl', 'mrc', 'dlv', 'mrll', 'yla', 'arml', 'mdb', 'malb', 'mzu', 'melz', 'mju', 'tcl', 'mlkf', 'mog', 'xmn', 'mgrl', 'fli', 'jy', 'pmlz', 'mlqz', 'op', 'mlqt', 'lf', 'jmla', 'p', 'lmlr', 'xmls', 'yd', 'gc', 'ftl', 'mxd', 'dmt', 'tla', 'ot', 'mxli', 'uhl', 'mlbc', 'mlqw', 'mlpp', 'rmlx', 'slx', 'vwml', 'nwml', 'jgml', 'myhl', 'mpy', 'ey', 'plp', 'kkml', 'ivml', 'mih', 'rt', 'smm', 'mblm', 'gmw', 'cly', 'up', 'ccml', 'monl', 'emlj', 'msj', 'smql', 'tmt', 'tmnl', 'yel', 'lgml', 'cmlz', 'zcml', 'mslk', 'bfl', 'wmle', 'jmfl', 'hmi', 'hpml', 'fmjl', 'mltd', 'yx', 'kmlr', 'mgql', 'm', 'msn', 'mbyl', 'myly', 'hsl', 'gp', 'wh', 'mbm', 'moe', 'blr', 'db', 'ecml', 'mxlz', 'amnl', 'lmll', 'mhj', 'fql', 'dmf', 'zmil', 'rmo', 'mlga', 'vyml', 'ttml', 'smal', 'zmlg', 'rmlq', 'klj', 'hgl', 'mlpm', 'kmh', 'elb', 'kmu', 'moo', 'xol', 'smq', 'mzcl', 'mcsl', 'lmw', 'mglx', 'gtl', 'mpsl', 'cwml', 'smlu', 'lkl', 'melp', 'hlb', 'kol', 'glh', 'rjml', 'ag', 'mcg', 'wql', 'mycl', 'mjlq', 'amlw', 'emxl', 'mlrk', 'aly', 'hmrl', 'ymol', 'mtla', 'dtml', 'nmhl', 'emlp', 'meel', 'mhy', 'men', 'blm', 'ply', 'mcx', 'tmil', 'umql', 'jo', 'mbil', 'glo', 'mtlm', 'jpml', 'nmlp', 'omlx', 'qx', 'fol', 'msml', 'tmlr', 'ome', 'awml', 'fj', 'umgl', 'ns', 'zbl', 'mfn', 'bmlv', 'cmlr', 'jt', 'jjml', 'vkl', 'vlp', 'cxml', 'mlsx', 'mlty', 'mzfl', 'mpml', 'maul', 'mlwd', 'mzzl', 'nmul', 'cmgl', 'dmlm', 'vz', 'molq', 'vmi', 'pmlk', 'slz', 'mulm', 'kmc', 'uiml', 'xmb', 'wvml', 'imr', 'anl', 'mylf', 'iqml', 'mktl', 'ngl', 'zf', 'qmhl', 'pmxl', 'mool', 'mza', 'dma', 'lvl', 'ep', 'mlr', 'pmk', 'ryl', 'laml', 'lmcl', 'zls', 'wlml', 'rhml', 'mrhl', 'umf', 'mrz', 'no', 'mlsh', 'amwl', 'clf', 'omml', 'lmlm', 'omo', 'mbwl', 'oel', 'pmfl', 'mpo', 'mrlq', 'zrl', 'aln', 'ynl', 'mjx', 'ix', 'mqtl', 'onml', 'bmo', 'mjk', 'mgsl', 'gil', 'rmal', 'fmc', 'mwyl', 'mplf', 'fa', 'mtli', 'mlpv', 'ylr', 'mprl', 'rmv', 'caml', 'jiml', 'mql', 'tlx', 'wf', 'molp', 'mnz', 'mxml', 'bhl', 'jmly', 'tlc', 'gaml', 'vlh', 'cma', 'mzv', 'mhwl', 'mflu', 'nh', 'kls', 'mcn', 'mlaz', 'gmlg', 'oms', 'macl', 'hmfl', 'plk', 'ry', 'ar', 'elp', 'wlf', 'kmal', 'mkly', 'nw', 'mvr', 'jn', 'kmg', 'msla', 'mqfl', 'miol', 'mcp', 'mdzl', 'an', 'bld', 'umzl', 'ofl', 'nb', 'mfhl', 'naml', 'mhtl', 'pjml', 'tsml', 'vmln', 'bmd', 'mdwl', 'mdhl', 'ilg', 'mnhl', 'qsl', 'mlhz', 'bmtl', 'mlzy', 'eyl', 'cmwl', 'rgml', 'ell', 'mwm', 'imxl', 'bb', 'lmf', 'malz', 'ampl', 'milw', 'gmf', 'mic', 'xmld', 'zgl', 'pli', 'swl', 'mlca', 'glk', 'mmnl', 'pnml', 'emjl', 'umwl', 'jmw', 'malt', 'vli', 'umlu', 'sc', 'wg', 'mbdl', 'xgml', 'alt', 'mlmr', 'vtl', 'xli', 'sbml', 'mgi', 'mbg', 'nmj', 'gv', 'gzml', 'emg', 'mlgn', 'ymlj', 'mvu', 'alr', 'mjlp', 'makl', 'ktl', 'amol', 'zlm', 'hw', 'mlqq', 'mxlc', 'ouml', 'mlhd', 'pu', 'egml', 'mlrj', 'smlv', 'mlhb', 'rmvl', 'obl', 'mkx', 'eil', 'vfl', 'mpn', 'elk', 'ymlz', 'slf', 'mjla', 'mflh', 'mble', 'lcml', 'mcxl', 'mqlk', 'rmf', 'kgl', 'mel', 'fe', 'pmlm', 'scml', 'crml', 'amlt', 'ad', 'mutl', 'nrml', 'xmle', 'mflr', 'dmo', 'gw', 'mlqy', 'mlns', 'eyml', 'melq', 'mlek', 'mlpz', 'mxle', 'hp', 'mxxl', 'nwl', 'tmlu', 'hmhl', 'mtle', 'mtol', 'mqxl', 'mylz', 'klv', 'bmlo', 'mtyl', 'qmu', 'mldh', 'mlul', 'lnml', 'mzli', 'rcl', 'mxsl', 'bul', 'dmla', 'ndml', 'zmb', 'uel', 'fmhl', 'miq', 'slr', 'dmy', 'tj', 'mlws', 'vy', 'xwml', 'ylu', 'hmls', 'mccl', 'mxvl', 'vmlc', 'sbl', 'wfl', 'mzvl', 'mag', 'mof', 'vmfl', 'mplg', 'lmgl', 'muly', 'mgel', 'ij', 'zmnl', 'flq', 'mlrd', 'qel', 'hmla', 'mles', 'hmd', 'mwal', 'nsl', 'mlhk', 'ugl', 'oll', 'mslu', 'meli', 'mlzq', 'arl', 'omnl', 'axl', 'mlwp', 'mdr', 'malk', 'mzl', 'jr', 'xmlr', 'dme', 'umj', 'pmql', 'wtml', 'qmkl', 'ts', 'gsml', 'jmsl', 'myml', 'dmal', 'xmlj', 'mlnk', 'ilml', 'ypml', 'mhc', 'mca', 'wmyl', 'mlmp', 'mlqi', 'xd', 'kd', 'bmvl', 'yol', 'mqlw', 'ikml', 'mjtl', 'lk', 'cmm', 'mts', 'kmlk', 'vmy', 'smw', 'gmll', 'mklh', 'mczl', 'opml', 'mltl', 'rmll', 'rlp', 'mlff', 'zmlb', 'cmvl', 'lmjl', 'mglc', 'muol', 'wj', 'amil', 'qlc', 'mzy', 'glf', 'fuml', 'kyml', 'imlu', 'mlgc', 'mtxl', 'yg', 'cmls', 'mmp', 'vmlh', 'lrl', 'omly', 'hxl', 'moxl', 'wmlt', 'mlyp', 'mcel', 'ab', 'gd', 'kmr', 'epml', 'lle', 'xlx', 'imn', 'gmp', 'vmg', 'rmlm', 'mlxy', 'omlr', 'kma', 'cm', 'mplz', 'muvl', 'mqml', 'wmw', 'tmg', 'xb', 'fmld', 'vkml', 'lmo', 'tul', 'cr', 'mvlo', 'mjlt', 'jmwl', 'nkl', 'mlvz', 'mlnu', 'mpld', 'mtlf', 'milu', 'bf', 'musl', 'mulr', 'vmyl', 'hqml', 'yfml', 'myg', 'btml', 'nmd', 'mwwl', 'emw', 'he', 'ilv', 'bmdl', 'mclt', 'mblk', 'pme', 'wmv', 'mvj', 'rmla', 'malf', 'as', 'imp', 'mall', 'lmt', 'xlf', 'mclk', 'vmt', 'zjl', 'imyl', 'ilr', 'mlel', 'il', 'imly', 'mflq', 'mlud', 'exl', 'mplb', 'mlhq', 'dz', 'olu', 'mmk', 'mgq', 'mthl', 'zmr', 'qtml', 'mlgp', 'zly', 'zmll', 'afml', 'zzml', 'mpxl', 'mklg', 'wmlf', 'mxnl', 'lmlq', 'mtd', 'imb', 'mloc', 'xln', 'xmhl', 'szml', 'mlxt', 'lmel', 'miw', 'mmlz', 'mnr', 'malu', 'mdrl', 'fmlg', 'mlov', 'jmlb', 'hln', 'ra', 'mvlq', 'flb', 'umlk', 'mmh', 'mrly', 'mglr', 'jmxl', 'omkl', 'mlgg', 'mzgl', 'mfcl', 'ml', 'omm', 'mdlr', 'mlar', 'klc', 'fmml', 'malm', 'fmb', 'omjl', 'ymlg', 'mrlt', 'tdml', 'fyml', 'mtk', 'mpil', 'yh', 'max', 'gln', 'amk', 'mhq', 'mxjl', 'mzpl', 'mltp', 'nmlx', 'pb', 'mgol', 'plm', 'mtx', 'jsml', 'fnl', 'kmzl', 'mkj', 'mwlc', 'mjd', 'gdml', 'mtlg', 'amfl', 'ib', 'nmf', 'fmkl', 'wlk', 'mtjl', 'yz', 'yxl', 'mltf', 'fmlu', 'h', 'vms', 'mmi', 'mlll', 'myzl', 'mlje', 'ghml', 'mlks', 'mlvl', 'ulv', 'wmla', 'irml', 'qxl', 'mlwb', 'mlfm', 'jlj', 'mll', 'dmzl', 'zmcl', 'mvi', 'glb', 'yjl', 'mup', 'mrlx', 'bmls', 'mkv', 'mvll', 'mfvl', 'dgml', 'xmlk', 'kiml', 'mlmg', 'xal', 'mny', 'rmi', 'mlnj', 'tnl', 'ely', 'ow', 'emlx', 'vmcl', 'mvy', 'mfs', 'tly', 'hy', 'mlwa', 'qmal', 'mhpl', 'yq', 'mmly', 'milo', 'ukl', 'nlml', 'mlxw', 'emdl', 'kx', 'xbl', 'pxl', 'mldn', 'zeml', 'mblw', 'kyl', 'mgr', 'mxgl', 'pmel', 'dmcl', 'imk', 'gmlo', 'mrt', 'mmll', 'ufml', 'fmlj', 'qmln', 'emy', 'ylb', 'hmw', 'ip', 'mqlr', 'mlly', 'lgl', 'jmlm', 'jgl', 'mbla', 'ymn', 'ymlv', 'tmlg', 'ymh', 'gs', 'mmlj', 'rmlb', 'slh', 'omp', 'dmv', 'milj', 'ia', 'amlu', 'mwls', 'plo', 'inl', 'tgml', 'mlab', 'mloe', 'mipl', 'zhl', 'vmq', 'nlr', 'bw', 'mml', 'ali', 'qma', 'yml', 'xz', 'mtel', 'xmzl', 'wkl', 'wb', 'mkwl', 'kmyl', 'clv', 'dlx', 'fd', 'mbln', 'npml', 'pkl', 'msq', 'mxln', 'lmol', 'mlgf', 'cmn', 'adml', 'mhk', 'bmlu', 'vtml', 'qzml', 'rmj', 'mhyl', 'yuml', 'mwul', 'mrfl', 'mjrl', 'lz', 'ga', 'mlpy', 'zld', 'svl', 'lml', 'jla', 'mlpc', 'mbly', 'mxql', 'alq', 'gms', 'jkml', 'dvml', 'mpol', 'frml', 'efml', 'pmlj', 'mlu', 'mnh', 'hyl', 'wmlk', 'jel', 'mtlz', 'qmi', 'zmsl', 'mxp', 'xmq', 'mcm', 'vmf', 'xmwl', 'sr', 'blv', 'dcml', 'lmj', 'tsl', 'mnlg', 'smi', 'klo', 'mch', 'bme', 'kgml', 'qlo', 'yw', 'fmlz', 'kmw', 'dmc', 'jmlx', 'mlyh', 'alf', 'wmwl', 'fmq', 'xe', 'milf', 'coml', 'mga', 'mgt', 'mclz', 'mcln', 'qcml', 'mor', 'mjml', 'ymu', 'mukl', 'jbml', 'zll', 'nli', 'dxml', 'milb', 'mqm', 'dlr', 'pmo', 'mlnf', 'mcli', 'lmbl', 'mqls', 'cq', 'amli', 'mlef', 'mlbq', 'mku', 'mii', 'mllv', 'malg', 'smvl', 'myu', 'qmlv', 'xlc', 'bmn', 'mqrl', 'mlyr', 'woml', 'mrj', 'pil', 'xlz', 'mlzz', 'mlcv', 'mw', 'gmz', 'mlob', 'mcq', 'gcml', 'wmzl', 'lfml', 'xlml', 'ltm', 'imls', 'byl', 'mfe', 'mqlb', 'hf', 'wls', 'fmtl', 'acl', 'wmm', 'gmm', 'qmf', 'wmbl', 'mqj', 'hbml', 'mld', 'amlr', 'mgal', 'smlq', 'hlj', 'lll', 'hlq', 'zmle', 'jmn', 'mhlz', 'mlrq', 'vmzl', 'mufl', 'mie', 'qlv', 'smol', 'zhml', 'mglu', 'mltg', 'mzlw', 'jwl', 'malr', 'fiml', 'gme', 'gmlt', 'ji', 'mvv', 'myn', 'hb', 'mqlo', 'mblv', 'hil', 'kmlc', 'thl', 'wlo', 'mffl', 'tmvl', 'mnlr', 'qpl', 'os', 'tmi', 'mnll', 'mttl', 'saml', 'cd', 'cmh', 'pn', 'umxl', 'fv', 'tuml', 'mjlh', 'llw', 'fmwl', 'mpj', 'ljl', 'vlm', 'nmq', 'zrml', 'mnyl', 'vmx', 'mkdl', 'bp', 'qlu', 'mzk', 'mclf', 'gvl', 'ule', 'raml', 'mok', 'mxt', 'cmfl', 'zmf', 'mfl', 'tmv', 'mru', 'by', 'ntl', 'meg', 'xlt', 'lyml', 'xmt', 'mlbl', 'mmlo', 'xmlu', 'eol', 'glt', 'fmf', 'molj', 'muql', 'mlkq', 'uwml', 'vi', 'nmpl', 'mz', 'psl', 'mmf', 'mzlr', 'pmlc', 'iz', 'zs', 'zmml', 'mus', 'utl', 'kul', 'ymvl', 'mfd', 'vsl', 'mdn', 'blml', 'tmla', 'lim', 'ums', 'mlwf', 'zkl', 'vmly', 'mbal', 'kmxl', 'moll', 'mlvs', 'nyml', 'mlsc', 'mxf', 'mfal', 'mozl', 'mlwj', 'omul', 'fmll', 'mlix', 'dal', 'mlds', 'gmlz', 'tx', 'melv', 'mzlc', 'omtl', 'mki', 'vlx', 'zq', 'mpe', 'mvlv', 'plh', 'pmlo', 'cs', 'mwdl', 'vmlw', 'dn', 'mwml', 'qmle', 'cmjl', 'mky', 'jaml', 'mjvl', 'umy', 'ymf', 'mldf', 'mcql', 'mlzh', 'mvlg', 'zx', 'ymb', 'bmlx', 'nlm', 'vmli', 'mlim', 'ujl', 'mbfl', 'mluo', 'mglq', 'mlkk', 'mlug', 'ulj', 'mrk', 'mosl', 'mlmh', 'cmlf', 'mhlw', 'llk', 'alml', 'xmu', 'rbml', 'dy', 'mjld', 'mlal', 'pmlh', 'ic', 'rdml', 'zl', 'umg', 'ula', 'mlza', 'ympl', 'mfr', 'mnln', 'xjml', 'tlo', 'es', 'mpz', 'xmlp', 'zmol', 'mlhe', 'mllk', 'mlwv', 'u', 'mlkz', 'mslc', 'milm', 'imz', 'wmq', 'fmpl', 'mlto', 'zy', 'slb', 'nlp', 'zsml', 'nlb', 'hq', 'pt', 'mfrl', 'kwml', 'cmlj', 'uzml', 'mtvl', 'wlw', 'mbb', 'rmbl', 'mlxc', 'pmly', 'jlg', 'tfml', 'ilk', 'emd', 'pwl', 'mspl', 'nmgl', 'cmal', 'baml', 'mlus', 'omwl', 'muy', 'mlea', 'miel', 'mlax', 'mnwl', 'mde', 'omls', 'jld', 'uc', 'mwt', 'hlt', 'mlge', 'mvly', 'bmln', 'xvl', 'mlmj', 'mluq', 'mrw', 'cmzl', 'mtp', 'mleh', 'mmr', 'nmil', 'msr', 'amt', 'gmhl', 'mou', 'nr', 'mbt', 'juml', 'ex', 'dmlt', 'pmhl', 'xlh', 'dq', 'mllg', 'mzx', 'mrld', 'hmz', 'alm', 'bv', 'rml', 'qmlh', 'kdml', 'koml', 'amo', 'mshl', 'urml', 'mes', 'smzl', 'tmlk', 'nmln', 'ims', 'mcd', 'nil', 'imkl', 'gmlq', 'ulb', 'mala', 'imu', 'mtkl', 'zyml', 'mgx', 'mcal', 'jmol', 'dg', 'kb', 'nmlc', 'gol', 'fmrl', 'morl', 'muml', 'bmc', 'gmcl', 'vmlf', 'qmlu', 'tmp', 'klh', 'umq', 'bmly', 'smlc', 'alj', 'nhl', 'emlo', 'mjlx', 'uo', 'dul', 'moli', 'pmq', 'rmil', 'zw', 'clo', 'gmb', 'mslt', 'mjls', 'mlof', 'vmlv', 'mglm', 'plc', 'mklt', 'mppl', 'cmpl', 'byml', 'smh', 'vx', 'mqlp', 'xmgl', 'qvml', 'amla', 'mvlp', 'umlz', 'mtsl', 'ba', 'nxl', 'clj', 'mqh', 'mplm', 'emal', 'hls', 'mzul', 'kmlw', 'mqi', 'jf', 'mlxl', 'nlu', 'mns', 'mlwi', 'mlyc', 'ilm', 'mryl', 'mxl', 'fvl', 'llq', 'jmv', 'mpal', 'maw', 'mlbx', 'mlnb', 'man', 'emlq', 'jlz', 'mxbl', 'tmhl', 'pmol', 'mblr', 'siml', 'uz', 'mtt', 'ylm', 'mzal', 'imzl', 'dmly', 'mhlu', 'neml', 'vlf', 'mjll', 'jls', 'mdy', 'atl', 'aw', 'nma', 'kwl', 'eel', 'vpml', 'kpl', 'mjwl', 'imlk', 'zmql', 'kmlg', 'ole', 'kmsl', 'mvlu', 'smel', 'nlf', 'mab', 'mldw', 'lzm', 'mlb', 'mlqb', 'muul', 'amlg', 'mxfl', 'mvlb', 'mokl', 'slml', 'rlo', 'fld', 'melx', 'stml', 'ylv', 'mylx', 'emwl', 'mrtl', 'wmk', 'czl', 'xmw', 'mkxl', 'nmfl', 'bm', 'mxm', 'ybml', 'mfa', 'amls', 'mnnl', 'kmb', 'mlke', 'dmll', 'trl', 'sp', 'pd', 'mhe', 'mlit', 'mjn', 'mblt', 'mxe', 'mzw', 'omli', 'mlyu', 'dbml', 'vmvl', 'mxlr', 'gmlb', 'lal', 'ral', 'rw', 'vp', 'qg', 'mhln', 'hnml', 'mvq', 'xzl', 'nlh', 'dmnl', 'pmlg', 'mnp', 'mlay', 'tl', 'b', 'mlzd', 'oj', 'hmwl', 'phml', 'html', 'blo', 'jmln', 'mlfo', 'jmls', 'rdl', 'hlv', 'mmol', 'uq', 'biml', 'qe', 'mdd', 'nsml', 'meb', 'pnl', 'jtl', 'ug', 'plx', 'oaml', 'mtlq', 'mbzl', 'mlm', 'gj', 'boml', 'evl', 'lmlv', 'lmpl', 'llg', 'xmr', 'tli', 'eoml', 'zmjl', 'plw', 'mlmn', 'maa', 'wpl', 'mlap', 'mix', 'mlzf', 'smf', 'mgs', 'mksl', 'mldt', 'mlup', 'rld', 'jlq', 'amlb', 'mdm', 'emlb', 'yk', 'mzo', 'rmk', 'mae', 'edl', 'mxrl', 'wla', 'su', 'mnb', 'mbq', 'vj', 'mlun', 'wxl', 'zlml', 'mlzr', 'mzql', 'mtil', 'mecl', 'mlli', 'fmfl', 'mmv', 'cyl', 'mlgz', 'nnl', 'mlww', 'lmq', 'ui', 'iml', 'dlz', 'tmwl', 'rls', 'lhml', 'ytml', 'mknl', 'mtfl', 'mjle', 'clp', 'xmcl', 'ukml', 'mkln', 'mxlt', 'njl', 'po', 'qmlx', 'mqyl', 'xy', 'mklv', 'mji', 'mklk', 'mlie', 'mrx', 'mlaf', 'muwl', 'jsl', 'mrnl', 'mylo', 'hul', 'rc', 'olv', 'pmcl', 'rmh', 'fml', 'qmlr', 'umlg', 'mqlq', 'nmal', 'ihml', 'mloo', 'mdql', 'oyml', 'udml', 'mx', 'zla', 'muf', 'lhm', 'mlfl', 'zmp', 'tmml', 'zmrl', 'oc', 'fp', 'mqs', 'smy', 'rlf', 'mpbl', 'haml', 'hmlc', 'mluc', 'mam', 'nd', 'embl', 'mklq', 'mehl', 'vyl', 'xmvl', 'mvvl', 'mdcl', 'hx', 'nmz', 'mzsl', 'gbml', 'mlps', 'mlvp', 'omxl', 'dlc', 'vgml', 'dmg', 'tlh', 'gmls', 'wyl', 'vmlo', 'msbl', 'mhlr', 'kxl', 'mlyn', 'mhrl', 'mhlc', 'un', 'mpt', 'soml', 'hlw', 'ndl', 'jhl', 'mlnq', 'mvsl', 'smlk', 'jcl', 'fxl', 'col', 'umlm', 'smyl', 'til', 'umr', 'mlvx', 'tmli', 'qeml', 'fhl', 'sn', 'trml', 'uli', 'ut', 'mub', 'mwe', 'mlil', 'emx', 'qmlt', 'flo', 'wlx', 'if', 'kr', 'obml', 'mif', 'omlw', 'xi', 'mgyl', 'mcr', 'fmlo', 'tlml', 'kmp', 'ke', 'wlu', 'mdg', 'mvtl', 'mmn', 'oiml', 'nmdl', 'mkrl', 'pmla', 'geml', 'gl', 'mbml', 'mod', 'mre', 'mmlu', 'vm', 'rlm', 'jtml', 'qmd', 'owl', 'mmlp', 'mfzl', 'qmrl', 'mdlw', 'mvil', 'lam', 'da', 'hme', 'mpb', 'milc', 'mlub', 'zlh', 'mbgl', 'afl', 'fmlp', 'pmlu', 'mjz', 'ioml', 'fmd', 'mloz', 'myz', 'ahml', 'emnl', 'yeml', 'xpl', 'mlho', 'mltx', 'hh', 'mlol', 'ilp', 'rmtl', 'mklf', 'ay', 'cjl', 'mlvj', 'omv', 'rmr', 'ufl', 'omvl', 'wmy', 'vmlq', 'mllu', 'mvlz', 'mltu', 'qil', 'qaml', 'msjl', 'ylw', 'mlrg', 'mmlv', 'mlkt', 'pln', 'msu', 'myjl', 'dmyl', 'amhl', 'bi', 'lul', 'clr', 'jmlk', 'mlgd', 'kj', 'mnlk', 'mijl', 'vlz', 'iy', 'wmt', 'cmc', 'mlno', 'pmgl', 'xmkl', 'mzil', 'mlwu', 'kw', 'mmlc', 'dmln', 'nml', 'mnlc', 'mplt', 'ubl', 'pq', 'cmnl', 'bl', 'ofml', 'bpml', 'bo', 'duml', 'hmgl', 'mao', 'mss', 'ulp', 'cdml', 'mxg', 'ffl', 'kmli', 'ylp', 'dw', 'mlqv', 'mplj', 'jms', 'myq', 'mygl', 'hcl', 'yhl', 'rmq', 'zln', 'mglk', 'af', 'tlu', 'llt', 'mai', 'bmxl', 'amh', 'zmlz', 'mtg', 'cmw', 'mbkl', 'hlo', 'diml', 'xlb', 'ala', 'sz', 'bn', 'taml', 'cmp', 'mple', 'mwld', 'ela', 'wx', 'umpl', 'myyl', 'lla', 'molu', 'ms', 'motl', 'umd', 'dj', 'mqy', 'pla', 'mfk', 'nfl', 'mals', 'mule', 'mov', 'qzl', 'mlwg', 'dfl', 'umlp', 'imx', 'als', 'emgl', 'mlan', 'fmr', 'wly', 'mdz', 'mfw', 'zk', 'dmlv', 'mlru', 'cx', 'plz', 'mlme', 'zmln', 'umil', 'mtdl', 'xmo', 'mhnl', 'mlt', 'wmfl', 'mlac', 'mhlj', 'ail', 'mlxh', 'mlpw', 'mxs', 'bmzl', 'myel', 'mleu', 'cfml', 'kmx', 'mqbl', 'qrml', 'orl', 'cal', 'pc', 'imlo', 'gu', 'myp', 'wp', 'mudl', 'mst', 'umlf', 'migl', 'amd', 'mxhl', 'amtl', 'mhz', 'llz', 'mtcl', 'qs', 'mlgu', 'ieml', 'vlr', 'mrul', 'kmj', 'nmw', 'dmxl', 'li', 'mjj', 'bol', 'kmld', 'rmgl', 'vel', 'ls', 'xmil', 'cqml', 'rmly', 'ttl', 'mzwl', 'dmpl', 'mfz', 'ymfl', 'plu', 'wel', 'enl', 'll', 'smb', 'mclo', 'mlnw', 'xo', 'mzlt', 'pmkl', 'kmq', 'msf', 'mclu', 'xmnl', 'mjql', 'nmr', 'omr', 'mexl', 'mrjl', 'mvwl', 'mlyq', 'qmlb', 'sjl', 'umol', 'mlir', 'mlfd', 'omcl', 'ec', 't', 'bmkl', 'mxn', 'qlp', 'sqml', 'mvxl', 'mj', 'znl', 'rx', 'mng', 'mlrl', 'mda', 'imi', 'zmi', 'zlx', 'hlk', 'zmdl', 'mwk', 'ola', 'jc', 'mal', 'elz', 'himl', 'all', 'mlln', 'mplx', 'mdyl', 'mluy', 'mxv', 'olk', 'klf', 'sv', 'mrwl', 'mdld', 'yln', 'mlby', 'mjlf', 'xh', 'lmv', 'ymql', 'nlw', 'mepl', 'mbjl', 'qnl', 'mlvh', 'flw', 'mlpa', 'mzml', 'xmx', 'msv', 'mlv', 'izl', 'meal', 'yr', 'vo', 'co', 'rmnl', 'mklc', 'mnn', 'mkvl', 'lmly', 'jmz', 'mykl', 'smxl', 'flm', 'medl', 'qiml', 'mlow', 'dly', 'rmlw', 'wmp', 'molh', 'bgl', 'tmf', 'jzl', 'nmel', 'mliu', 'mnla', 'pmyl', 'kmwl', 'mkh', 'dmq', 'wal', 'mflx', 'mloq', 'tmlz', 'fmyl', 'melk', 'mlyl', 'mlkb', 'imlc', 'tlb', 'hll', 'mry', 'bfml', 'lmle', 'mlqu', 'nmxl', 'myh', 'mlor', 'cp', 'mjo', 'mlio', 'hmnl', 'qnml', 'dmhl', 'mqel', 'fmcl', 'vn', 'mpul', 'kf', 'kln', 'amlm', 'bql', 'im', 'mpfl', 'smsl', 'mael', 'gmr', 'kmql', 'hr', 'gpl', 'mafl', 'sdml', 'mjl', 'mzlh', 'qkml', 'mdl', 'mfll', 'wmlp', 'qmgl', 'nmg', 'vol', 'mnol', 'hld', 'mau', 'wmg', 'rql', 'fmsl', 'rel', 'lmfl', 'rmlh', 'tf', 'mlpe', 'bls', 'fy', 'mfld', 'muw', 'dhl', 'mit', 'mllj', 'mlkd', 'mkkl', 'mex', 'maql', 'mjpl', 'mlpr', 'qmo', 'myw', 'mvlc', 'tz', 'lmxl', 'vpl', 'mtq', 'mlvi', 'mhml', 'qlh', 'wmn', 'zj', 'vme', 'rsml', 'mqdl', 'tmzl', 'hkl', 'nmlz', 'guml', 'smln', 'qmlg', 'gnml', 'dzl', 'mvdl', 'mlpk', 'miql', 'mikl', 'nmlb', 'mqul', 'mzlo', 'vmk', 'bkml', 'vlk', 'ur', 'cmlw', 'mzlz', 'fkml', 'mluh', 'mjf', 'mdfl', 'dmls', 'mlag', 'gle', 'mbsl', 'pmx', 'adl', 'mddl', 'mldi', 'uxml', 'mgd', 'qbl', 'mclh', 'ztml', 'lma', 'mqol', 'kld', 'dp', 'bmnl', 'mlk', 'rvl', 'mbtl', 'gmi', 'imd', 'ymyl', 'giml', 'mlnm', 'rlt', 'lls', 'mjln', 'rlj', 'mhbl', 'mlos', 'peml', 'mhld', 'mrb', 'mljv', 'ibl', 'meql', 'cls', 'zmm', 'yfl', 'cli', 'mela', 'mfp', 'mke', 'msgl', 'xmlb', 'vw', 'bmlc', 'zbml', 'mhi', 'pqml', 'swml', 'mhv', 'emp', 'mcrl', 'knl', 'milz', 'zmhl', 'qmlj', 'mnli', 'ku', 'qmli', 'rkml', 'fmil', 'gmk', 'fmvl', 'imlx', 'malc', 'smlg', 'mrf', 'zyl', 'mltc', 'mlot', 'mglv', 'ii', 'rlh', 'mnu', 'mcl', 'mqql', 'ct', 'msil', 'wmsl', 'cpl', 'mak', 'glm', 'mklo', 'tmsl', 'rmzl', 'molb', 'bmhl', 'zv', 'tfl', 'wmlb', 'mmql', 'mlgj', 'lmkl', 'qi', 'mctl', 'jmc', 'mfdl', 'mblp', 'oul', 'muln', 'rlv', 'rmm', 'qlg', 'kmlq', 'zmlk', 'bmld', 'umbl', 'emld', 'mlyd', 'mlrx', 'zxl', 'pmal', 'lnl', 'gfml', 'muz', 'mlo', 'jle', 'klb', 'eb', 'odml', 'tlm', 'amlc', 'rxml', 'ldm', 'mlwm', 'flz', 'fmlc', 'krl', 'mllz', 'mlyb', 'ema', 'mwlo', 'oml', 'bmil', 'muu', 'jmtl', 'qly', 'emlr', 'fwl', 'aqml', 'xrl', 'dmvl', 'rmli', 'mlem', 'mzkl', 'mzxl', 'zjml', 'elc', 'az', 'tmj', 'dmlh', 'mlyi', 'kmlu', 'msvl', 'mval', 'mivl', 'amyl', 'cdl', 'qul', 'vlq', 'nc', 'mtl', 'cb', 'mwlr', 'zmlf', 'hzml', 'mnkl', 'mvls', 'mis', 'mvgl', 'azl', 'nn', 'iu', 'mbf', 'yil', 'vf', 'mleb', 'yaml', 'nmlg', 'mlkh', 'mmm', 'tln', 'olj', 'mojl', 'jmld', 'amgl', 'mylg', 'djl', 'msly', 'ocml', 'hms', 'mmsl', 'alu', 'mlwt', 'jmx', 'vmgl', 'flp', 'pvl', 'mrlw', 'ytl', 'mkq', 'mola', 'mzs', 'mluw', 'mxpl', 'lym', 'yn', 'pql', 'mio', 'imlv', 'xmel', 'qmb', 'mlxa', 'mfbl', 'mlkw', 'mmlx', 'vlml', 'rmy', 'vd', 'amf', 'yzml', 'mglw', 'mgjl', 'riml', 'moil', 'vmlu', 'yal', 'mxld', 'ilf', 'mlgv', 'emz', 'mdx', 'cnml', 'fmm', 'sil', 'skl', 'mlfy', 'sal', 'mlte', 'zmc', 'xmc', 'shml', 'mlft', 'mlsl', 'dkml', 'xmj', 'qhl', 'mrlh', 'vlt', 'qfl', 'gmt', 'mwcl', 'mze', 'kmla', 'moh', 'pmml', 'mleq', 'oli', 'mliz', 'mnvl', 'mlql', 'vwl', 'xma', 'ymg', 'dmli', 'mlsw', 'mlvn', 'we', 'cjml', 'pdml', 'nms', 'szl', 'xhml', 'viml', 'mild', 'mol', 'mlcl', 'ef', 'ft', 'pmlt', 'mwr', 'msh', 'opl', 'iiml', 'mfyl', 'mblb', 'ed', 'om', 'mxlx', 'flg', 'mwlv', 'mlae', 'hlml', 'bmlt', 'lmwl', 'llml', 'wul', 'wmtl', 'muc', 'xx', 'ydl', 'omg', 'gm', 'mge', 'auml', 'ymls', 'mnlp', 'mldr', 'xyml', 'plb', 'rf', 'amlx', 'lmnl', 'mlop', 'mobl', 'kmi', 'rbl', 'sgl', 'tjl', 'kmd', 'amb', 'vmsl', 'myls', 'klq', 'zmlv', 'mfo', 'mkal', 'hlr', 'zmk', 'sma', 'vmml', 'jlr', 'jg', 'mlma', 'vmn', 'uwl', 'mflb', 'xcml', 'nmol', 'amml', 'sls', 'bmlg', 'dll', 'ue', 'qmcl', 'umu', 'mzj', 'fx', 'mulq', 'mlvu', 'xmql', 'lsm', 'bz', 'hhl', 'nk', 'imlp', 'mkls', 'ctml', 'emf', 'xf', 'lmls', 'mlhc', 'mrml', 'cmx', 'iln', 'mnlu', 'mfpl', 'kfml', 'oz', 'mklm', 'kn', 'xa', 'fmlb', 'aul', 'bml', 'cxl', 'mwj', 'mvlw', 'mflz', 'mmel', 'mlxj', 'mlkp', 'mlve', 'mma', 'mlcf', 'mjxl', 'wkml', 'mlqj', 'gmc', 'mlra', 'fzml', 'mlgr', 'wma', 'tmbl', 'mlrt', 'mbvl', 'wcl', 'mrn', 'vmrl', 'zmlm', 'bmz', 'jml', 'vmpl', 'mglz', 'mhlo', 'emly', 'jmli', 'mim', 'mdel', 'wrml', 'lmg', 'vql', 'pmlp', 'ymlo', 'gmxl', 'mpcl', 'mcwl', 'mer', 'mfsl', 'jfl', 'msol', 'mlhl', 'zmly', 'ya', 'jqml', 'umlw', 'wmlz', 'mwlq', 'qb', 'nla', 'mlny', 'zxml', 'srml', 'mslr', 'vl', 'dx', 'pmdl', 'ujml', 'dmld', 'mdp', 'imlm', 'mrlf', 'xle', 'mjg', 'mlbw', 'zmxl', 'ymy', 'qmh', 'gml', 'vhl', 'et', 'smnl', 'mizl', 'hhml', 'emlu', 'cvml', 'plf', 'mlh', 'olc', 'ymli', 'pml', 'bll', 'mlld', 'zmh', 'gmjl', 'mdv', 'umla', 'dlp', 'rn', 'qmy', 'mqil', 'dmol', 'gz', 'mjlv', 'wq', 'mili', 'mnlw', 'mob', 'dpl', 'flv', 'dt', 'mylj', 'mos', 'mlgq', 'mgla', 'ez', 'qol', 'pyml', 'osml', 'oly', 'mftl', 'mzlu', 'mvb', 'bvl', 'gmj', 'krml', 'mqkl', 'fmol', 'msg', 'smgl', 'tmr', 'ximl', 'fxml', 'mplp', 'mlka', 'cmtl', 'mwu', 'imnl', 'ydml', 'ckl', 'mmlw', 'pmnl', 'vv', 'fmdl', 'mylt', 'mlqk', 'ch', 'vmal', 'elw', 'fmy', 'bmg', 'nmrl', 'ffml', 'mlox', 'yrml', 'mid', 'plml', 'mlze', 'mlip', 'mgvl', 'vrl', 'mele', 'vmql', 'imle', 'amly', 'mybl', 'emll', 'gjl', 'fil', 'mfm', 'jmlv', 'mevl', 'njml', 'btl', 'smdl', 'uml', 'mln', 'manl', 'milv', 'imol', 'mylw', 'mwrl', 'eql', 'gyml', 'tmz', 'xmd', 'mlzv', 'mlwk', 'od', 'fb', 'wmd', 'wzl', 'rmlv', 'mfel', 'zel', 'msp', 'zol', 'smul', 'bla', 'ymld', 'mlle', 'mkla', 'mlvr', 'mgbl', 'mlfp', 'omb', 'mlxn', 'xfl', 'mxzl', 'mce', 'mlrp', 'wnl', 'bmla', 'vmhl', 'mna', 'mkgl', 'mlqh', 'el', 'lil', 'smhl', 'elo', 'mfly', 'mzn', 'dmn', 'omlb', 'dm', 'mpls', 'mhlq', 'mljk', 'mxlb', 'myi', 'mull', 'mlqm', 'pmld', 'mqhl', 'pe', 'mtj', 'xmml', 'mwx', 'mkol', 'wmlx', 'wiml', 'wz', 'mvla', 'mohl', 'zkml', 'qmxl', 'itl', 'hlh', 'mth', 'hcml', 'mux', 'lpml', 'mkhl', 'fbl', 'rlz', 'bmm', 'chml', 'mlzo', 'hmlz', 'smt', 'mldu', 'erml', 'blq', 'muls', 'lmlh', 'lt', 'gn', 'mltr', 'bal', 'ziml', 'ee', 'rxl', 'mhql', 'qjml', 'nls', 'ny', 'meu', 'bbl', 'mlic', 'mlpt', 'nle', 'mzbl', 'mwg', 'dzml', 'jme', 'ylj', 'nmlt', 'emrl', 'wlq', 'mblc', 'fmk', 'xfml', 'msk', 'mtf', 'tld', 'mslg', 'nmml', 'mwfl', 'pmlw', 'fzl', 'rmjl', 'yv', 'mfls', 'hmml', 'jz', 'ami', 'umx', 'mlam', 'mjol', 'tgl', 'alo', 'sfl', 'mylm', 'amlj', 'emzl', 'mrlu', 'blx', 'jcml', 'smlw', 'ohl', 'mvml', 'isml', 'csml', 'lpl', 'mjnl', 'ckml', 'hjml', 'mfwl', 'mpl', 'glg', 'mew', 'maz', 'fmz', 'w', 'mglb', 'smwl', 'mww', 'hmlw', 'qmil', 'muh', 'mblu', 'muli', 'wlc', 'omlt', 'mjlj', 'mhil', 'mlnx', 'mslw', 'bzl', 'mplo', 'hmtl', 'smrl', 'al', 'lmx', 'mdol', 'omln', 'pjl', 'wmb', 'mlxq', 'vdml', 'ymlk', 'qsml', 'vlw', 'msln', 'mpc', 'ko', 'clt', 'zmn', 'mqlt', 'mlqr', 'anml', 'mdbl', 'twml', 'skml', 'ill', 'ymal', 'vlo', 'mnle', 'dmjl', 'zmu', 'eml', 'mqz', 'mek', 'rg', 'mwbl', 'vmm', 'yt', 'wmil', 'jmpl', 'gmlu', 'wmhl', 'av', 'mjcl', 'mlrn', 'myla', 'mlgi', 'mlsu', 'mwel', 'meld', 'gmkl', 'emil', 'klx', 'myil', 'zmlc', 'hol', 'vmv', 'wyml', 'yxml', 'llj', 'mlpx', 'nmll', 'qmj', 'mlgs', 'tmal', 'wmj', 'qmr', 'bmul', 'cwl', 'mat', 'ele', 'mpm', 'jpl', 'mmlk', 'dmml', 'mdla', 'gla', 'fln', 'mje', 'quml', 'emq', 'jmyl', 'nmql', 'jmi', 'vmlr', 'oh', 'mjgl', 'plq', 'bbml', 'mtal', 'jil', 'fms', 'mltm', 'mpw', 'mlcs', 'emlz', 'mxol', 'mjlb', 'mlhv', 'mfc', 'amlp', 'mxwl', 'mlmu', 'umvl', 'lwl', 'le', 'mfg', 'lfl', 'dmz', 'iwml', 'mhal', 'qvl', 'zmpl', 'mnlv', 'tmlh', 'glz', 'gzl', 'mmli', 'fmlr', 'fmo', 'go', 'rol', 'hmn', 'bil', 'lmla', 'mylr', 'ptl', 'mfv', 'du', 'qm', 'lmil', 'mlfs', 'nmlm', 'rmt', 'hvml', 'myle', 'mvle', 'dld', 'mulf', 'dsml', 'gbl', 'mlpl', 'nmli', 'wmly', 'hrml', 'omc', 'ti', 'ymlb', 'smld', 'mbp', 'jb', 'kmbl', 'mmgl', 'mpq', 'wuml', 'ilu', 'oe', 'ymlh', 'ipl', 'ifl', 'mzlq', 'pzl', 'emlk', 'mlsb', 'lwml', 'klu', 'ulm', 'plr', 'mljl', 'qlz', 'nlt', 'mws', 'jln', 'mlmm', 'mlys', 'uyl', 'mmlh', 'mac', 'zul', 'mlmt', 'kl', 'myy', 'fmu', 'zi', 'ilx', 'bmfl', 'jdml', 'emhl', 'mlnv', 'mlsk', 'jmlc', 'mail', 'phl', 'mbn', 'ddml', 'img', 'mfol', 'mslm', 'vk', 'xr', 'myb', 'mlck', 'umle', 'ze', 'cld', 'tmx', 'kml', 'zlc', 'xvml', 'mwz', 'yi', 'mxel', 'misl', 'sg', 'mpli', 'omt', 'umsl', 'mzrl', 'at', 'mve', 'omlm', 'mmb', 'hdml', 'glj', 'mtu', 'llc', 'mlkv', 'ywml', 'jlv', 'bmt', 'mltj', 'mnbl', 'dvl', 'wbml', 'jlp', 'zo', 'pmlx', 'elv', 'rmlu', 'qcl', 'mlmo', 'sw', 'hmil', 'zlf', 'mejl', 'yle', 'gmyl', 'mlei', 'mui', 'pal', 'jql', 'melg', 'egl', 'mlbj', 'mwq', 'imlj', 'mlbs', 'melc', 'mlph', 'ysl', 'qll', 'mllh', 'ubml', 'uln', 'slc', 'zmkl', 'slu', 'mlzl', 'akml', 'ymz', 'xmy', 'sel', 'mlqx', 'jmcl', 'lkml', 'mfq', 'pl', 'mia', 'efl', 'mvlf', 'mlbf', 'clb', 'me', 'cgml', 'tmlt', 'rlml', 'mtc', 'kmil', 'mxj', 'pa', 'omol', 'pr', 'mjp', 'mmu', 'mliy', 'mwtl', 'lcl', 'wqml', 'qmc', 'mplk', 'gls', 'mmhl', 'lmn', 'fel', 'kmm', 'mvkl', 'mnl', 'smlt', 'lmi', 'bmlb', 'kmlo', 'rul', 'muel', 'amlf', 'bmll', 'myxl', 'nmbl', 'mvs', 'mcld', 'dgl', 'okml', 'rzl', 'gfl', 'ov', 'jlh', 'uql', 'mlzu', 'qmn', 'mdal', 'mei', 'wmul', 'mynl', 'apl', 'kmt', 'bmql', 'ox', 'mri', 'gmo', 'mlpi', 'smly', 'xms', 'mgle', 'poml', 'cmlt', 'zvml', 'mzlj', 'rly', 'nmn', 'nrl', 'ild', 'zmlo', 'mxla', 'hc', 'nmlq', 'els', 'ymlt', 'tb', 'mclw', 'ig', 'tms', 'nmjl', 'zr', 'mloi', 'lvm', 'mcf', 'nmtl', 'xmlv', 'kaml', 'k', 'melb', 'cmxl', 'rmfl', 'msl', 'mlw', 'xwl', 'mhlg', 'llf', 'clh', 'gmsl', 'murl', 'mlex', 'qlf', 'mbx', 'apml', 'mqk', 'mzlk', 'homl', 'msld', 'fls', 'mbv', 'imhl', 'emlh', 'smlb', 'nq', 'ila', 'mefl', 'mhu', 'fmle', 'mlfz', 'mwl', 'mblq', 'tnml', 'ojl', 'ctl', 'mdlz', 'bmrl', 'maxl', 'amlz', 'aql', 'ncl', 'mwlm', 'smtl', 'gmlf', 'ki', 'mlum', 'ulf', 'xmp', 'mrv', 'mlhf', 'mlda', 'mnk', 'mez', 'vmbl', 'mtlw', 'omz', 'xv', 'yf', 'mssl', 'jmbl', 'mazl', 'qmlm', 'mlvf', 'meyl', 'eaml', 'fmj', 'lbl', 'mxtl', 'mnj', 'tmpl', 'mlez', 'kmjl', 'mvyl', 'of', 'jmk', 'qpml', 'mulw', 'aml', 'nql', 'loml', 'cme', 'mblg', 'mxx', 'wvl', 'rp', 'exml', 'mszl', 'smlf', 'mq', 'bly', 'hl', 'lqml', 'wmld', 'mxlk', 'mec', 'cul', 'mcul', 'mlhj', 'ymm', 'dbl', 'imy', 'mxr', 'mmbl', 'zlp', 'mllr', 'amg', 'mlsy', 'maly', 'o', 'mnd', 'bmal', 'mlcg', 'zlv', 'nz', 'yoml', 'pmw', 'mee', 'mwil', 'dmlf', 'mlsr', 'gq', 'mrle', 'dlm', 'melt', 'tmln', 'mfil', 'mhb', 'nmk', 'mlyf', 'mzly', 'fjl', 'mjy', 'umln', 'mila', 'wm', 'qk', 'mxlu', 'umyl', 'hkml', 'tmgl', 'dlf', 'suml', 'ooml', 'mljw', 'nlx', 'qmnl', 'mua', 'fmel', 'mllf', 'tmjl', 'oo', 'lxl', 'mhr', 'mlnn', 'msdl', 'waml', 'ilw', 'dnml', 'mpql', 'flh', 'hmm', 'ksl', 'mjr', 'jli', 'mhls', 'yiml', 'flk', 'dlg', 'mlhh', 'msal', 'mlpd', 'snl', 'mylk', 'jmul', 'ulr', 'mbhl', 'smls', 'iw', 'bqml', 'wmln', 'wmlu', 'klk', 'bmli', 'emlt', 'tyl', 'kmlz', 'to', 'qlm', 'mnlj', 'wms', 'omdl', 'lc', 'mifl', 'mgy', 'olml', 'jmkl', 'tmfl', 'tmcl', 'xw', 'mslf', 'mjhl', 'mwlk', 'mlyk', 'bmx', 'vlc', 'do', 'dlh', 'avl', 'cvl', 'oql', 'mylc', 'hmlx', 'mqpl', 'hmlf', 'llr', 'hlp', 'hfml', 'sml', 'mcll', 'smbl', 'ssl', 'mya', 'hmq', 'umjl', 'mwsl', 'pmi', 'dr', 'mtly', 'rmle', 'mald', 'mlaw', 'zwml', 'tmel', 'flj', 'mtlh', 'mlog', 'mkml', 'mqlg', 'msi', 'rms', 'mbql', 'jv', 'may', 'vnl', 'kzl', 'scl', 'mlhm', 'qw', 'mlqo', 'fmlq', 'kz', 'prml', 'bmsl', 'mubl', 'molx', 'kbml', 'xml', 'clz', 'fmi', 'nmp', 'smfl', 'myal', 'cg', 'mloh', 'ibml', 'xlg', 'oil', 'nvml', 'olm', 'pmu', 'mula', 'etml', 'mkc', 'mwb', 'mqln', 'modl', 'mtlv', 'te', 'wi', 'mcs', 'jmlr', 'gwl', 'pyl', 'fmlw', 'omlc', 'smle', 'pm', 'jly', 'hmel', 'qz', 'nmlv', 'clu', 'bmbl', 'mmt', 'mfu', 'met', 'mily', 'milh', 'fc', 'mcjl', 'mglp', 'mlzg', 'gxml', 'mgkl', 'rmu', 'mtlo', 'msz', 'be', 'ilc', 'ceml', 'mjlo', 'xkml', 'ulg', 'thml', 'cmyl', 'qyl', 'svml', 'hlx', 'mlnd', 'mkm', 'pmwl', 'emv', 'lem', 'fmn', 'mlcz', 'jmlp', 'wlr', 'mgwl', 'nol', 'mlcn', 'iel', 'molw', 'goml', 'mtml', 'twl', 'qmlz', 'mad', 'umc', 'mebl', 'minl', 'jmle', 'lmlx', 'mlxd', 'mwn', 'molm', 'xmm', 'mzlm', 'mliv', 'mclv', 'mloj', 'vlu', 'vqml', 'kjml', 'aal', 'og', 'slj', 'mhlt', 'rmlj', 'ylt', 'eli', 'hmcl', 'mptl', 'mogl', 'muhl', 'mlvv', 'em', 'wol', 'npl', 'mdlp', 'sli', 'qdml', 'mrdl', 'mmwl', 'fw', 'hlc', 'mkzl', 'rmsl', 'fmlx', 'qmql', 'mmz', 'muld', 'mlcc', 'mvhl', 'vmdl', 'emsl', 'mdle', 'gg', 'tvml', 'mldz', 'mqt', 'mbll', 'jlx', 'mqll', 'sol', 'zqml', 'enml', 'fmlt', 'mocl', 'vgl', 'ulk', 'rmlr', 'emli', 'usl', 'mlia', 'mflt', 'dmlp', 'rmb', 'gmel', 'mplq', 'mljz', 'empl', 'mslp', 'llx', 'mwlh', 'tmul', 'tmn', 'lbm', 'kmf', 'moi', 'mjlu', 'aol', 'amld', 'rlq', 'tmd', 'qmlw', 'eo', 'umli', 'kmlm', 'mlrb', 'jjl', 'dml', 'mlsj', 'qms', 'mtzl', 'qmlq', 'jmlz', 'mllw', 'ymi', 'lvml', 'mrxl', 'dla', 'mlpo', 'tmdl', 'mlbg', 'mnx', 'mlso', 'gmlw', 'lmzl', 'mlxi', 'pmp', 'mgb', 'zmlr', 'omj', 'mmjl', 'mlad', 'kmls', 'mfla', 'lmu', 'tcml', 'mult', 'gjml', 'mmlr', 'kle', 'mlnr', 'mf', 'iyml', 'vvl', 'mb', 'olo', 'mxlh', 'mlfw', 'gmul', 'ylg', 'mslj', 'xll', 'mlzn', 'mhdl', 'wmlo', 'spml', 'ym', 'zme', 'mlkn', 'xlu', 'wmol', 'bhml', 'qmtl', 'vmu', 'gmy', 'grl', 'omlo', 'mlky', 'dyml', 'zc', 'drl', 'mjdl', 'cz', 'mdul', 'mllc', 'zmzl', 'ja', 'pp', 'mnlz', 'mklz', 'vmls', 'olb', 'vly', 'jmal', 'kil', 'mbe', 'mlko', 'amjl', 'mev', 'eq', 'myol', 'klm', 'myf', 'mdt', 'vs', 'fsml', 'akl', 'mpp', 'lmh', 'mljb', 'fmp', 'kmvl', 'mklw', 'mslz', 'xuml', 'umlx', 'mgfl', 'xmi', 'midl', 'gmv', 'mlpu', 'mvol', 'toml', 'mlaq', 'dhml', 'ulw', 'pgl', 'mkw', 'wlh', 'umhl', 'gmlp', 'mgk', 'tc', 'lld', 'yul', 'mnt', 'hmql', 'ymzl', 'qlr', 'jmj', 'qmdl', 'wa', 'jmgl', 'mwlu', 'mlxe', 'ljml', 'mka', 'ymle', 'qtl', 'bmle', 'stl', 'mlqg', 'whl', 'xlk', 'mlin', 'acml', 'dmlc', 'mlsz', 'mlwx', 'flr', 'wmvl', 'wmlg', 'lql', 'bg', 'mopl', 'pz', 'amxl', 'cmli', 'magl', 'fm', 'mpel', 'umel', 'mlut', 'ame', 'pms', 'mn', 'mlfx', 'wmc', 'lhl', 'mqld', 'moml', 'mzlv', 'smo', 'mbrl', 'amr', 'mllb', 'mle', 'si', 'hwl', 'mjt', 'mlwq', 'omlp', 'milp', 'nmlf', 'mcc', 'nmm', 'mzls', 'rmdl', 'fz', 'mgzl', 'mjfl', 'fmxl', 'hmxl', 'moly', 'mlrf', 'ogl', 'xmrl', 'mtwl', 'faml', 'mlms', 'rmpl', 'puml', 'mulp', 'uu', 'mztl', 'ymul', 'dmh', 'unl', 'mgm', 'mlzs', 'rmrl', 'mrkl', 'mxo', 'lg', 'bmlf', 'wdl', 'dmlu', 'rle', 'qmzl', 'rli', 'mk', 'xm', 'xel', 'mvlt', 'qls', 'yrl', 'imvl', 'umm', 'kuml', 'imdl', 'hmlk', 'cmcl', 'mpyl', 'gf', 'maal', 'mugl', 'bln', 'map', 'icml', 'rhl', 'clg', 'dmfl', 'tmls', 'mdlc', 'clc', 'mdw', 'tr', 'mlon', 'olp', 'meil', 'mlas', 'blw', 'mlde', 'smk', 'myrl', 'gmbl', 'ou', 'zmbl', 'llu', 'ymc', 'kmlv', 'omle', 'ulml', 'mofl', 'mvw', 'mljp', 'wml', 'rr', 'mlvt', 'ulc', 'ult', 'mlxf', 'bmwl', 'mlyz', 'dmsl', 'mpll', 'hma', 'iol', 'emkl', 'rll', 'xmlh', 'kxml', 'mlbt', 'htl', 'mljg', 'mlts', 'myli', 'hmlb', 'glp', 'mqla', 'kmlj', 'wmal', 'ymk', 'hmkl', 'mhp', 'xnl', 'ju', 'mlbh', 'jmlg', 'mlej', 'piml', 'elm', 'vls', 'mmlq', 'nme', 'um', 'ama', 'onl', 'malx', 'nf', 'vfml', 'emj', 'mzlb', 'fo', 'mvjl', 'lmp', 'mpvl', 'imfl', 'mrlb', 'imo', 'pvml', 'zmul', 'mtls', 'cy', 'oi', 'crl', 'cll', 'yyml', 'amc', 'vmle', 'lol', 'mxly', 'grml', 'mjlw', 'mck', 'mhxl', 'mlig', 'mlyg', 'msql', 'gmvl', 'omf', 'dql', 'mtgl', 'dfml', 'mskl', 'mft', 'bt', 'fkl', 'lmlj', 'kc', 'weml', 'ob', 'ngml', 'mrlv', 'mlfv', 'mhul', 'gql', 'mmlm', 'ld', 'ugml', 'lmdl', 'fly', 'jwml', 'fmgl', 'bmlm', 'smli', 'ynml', 'imv', 'mdf', 'ht', 'na', 'dms', 'umlr', 'mxcl', 'omlk', 'tjml', 'mlri', 'mill', 'mxls', 'wd', 'mjv', 'mqd', 'dil', 'mkz', 'mlfh', 'mlba', 'tmo', 'xyl', 'rmlk', 'ae', 'nmo', 'menl', 'oa', 'zcl', 'bdml', 'fcl', 'miyl', 'cc', 'mcle', 'mo', 'myll', 'cmk', 'mmyl', 'xmlz', 'ltml', 'mkcl', 'mulc', 'mgxl', 'mdxl', 'mwnl', 'esl', 'mrgl', 'qmul', 'elx', 'lmal', 'zmls', 'owml', 'yms', 'jd', 'mrpl', 'mci', 'imsl', 'zlq', 'vzl', 'jdl', 'jmu', 'mpv', 'gul', 'mzm', 'mydl', 'mhlh', 'mwgl', 'glu', 'lb', 'mvm', 'lmlb', 'rlu', 'alv', 'mlkg', 'mljq', 'xl', 'bmj', 'mavl', 'ik', 'mqb', 'vil', 'mpwl', 'mlgh', 'rj', 'mhly', 'lom', 'xil', 'msle', 'hmvl', 'ghl', 'hmlj', 'tmlm', 'bmi', 'mylv', 've', 'ybl', 'xpml', 'mrd', 'mfh', 'emh', 'mwh', 'zlw', 'vmlp', 'mljr', 'mlet', 'mabl', 'mnal', 'ymrl', 'mlya', 'clml', 'mflv', 'mjlg', 'amy', 'hmlm', 'ial', 'zlz', 'pmls', 'upl', 'xlv', 'mjb', 'mwlf', 'lr', 'zdl', 'mlzb', 'drml', 'jp', 'imql', 'oq', 'mblh', 'mks', 'gmlx', 'mvlx', 'mlpq', 'jeml', 'mypl', 'tlw', 'mplw', 'mxu', 'dmlg', 'cmml', 'hmol', 'lpm', 'jmel', 'kmz', 'mp', 'ili', 'mchl', 'imlb', 'maj', 'jmhl', 'xk', 'mklr', 'mmls', 'bmel', 'kvl', 'mvo', 'ul', 'rmp', 'mhw', 'mul', 'xmln', 'vmxl', 'mvlj', 'mgln', 'xc', 'ymel', 'odl', 'tmkl', 'mlqf', 'qc', 'cmo', 'mkyl', 'nmnl', 'ymla', 'wlm', 'mlbr', 'wil', 'td', 'nlo', 'mm', 'mvnl', 'muo', 'malj', 'mpln', 'mblz', 'molt', 'dpml', 'mlgb', 'bmv', 'bmcl', 'mgj', 'xme', 'mklb', 'llb', 'fmlv', 'shl', 'km', 'ixl', 'mlzx', 'iaml', 'kly', 'mtpl', 'cbl', 'mloa', 'hsml', 'emi', 'rmkl', 'mlev', 'omyl', 'pmj', 'ci', 'rlk', 'zmx', 'emcl', 'emls', 'imel', 'umly', 'msll', 'iv', 'vmb', 'rmc', 'jfml', 'mlgk', 'mh', 'ovl', 'jmr', 'mbd', 'mmdl', 'mtbl', 'fhml', 'mldo', 'tll', 'mtlk', 'mpdl', 'mhll', 'zlk', 'olf', 'mlbu', 'mxlm', 'gyl', 'hmu', 'mu', 'ymwl', 'tmxl', 'lli', 'hfl', 'melr', 'mflc', 'xbml', 'mxll', 'eln', 'ro', 'mlux', 'fla', 'mlak', 'mixl', 'atml', 'gld', 'mwlw', 'kpml', 'yvl', 'dlml', 'mxkl', 'jzml', 'mkul', 'kkl', 'agml', 'mgz', 'zlo', 'mlfj', 'mkp', 'mpk', 'mmo', 'lmlg', 'cmz', 'rlb', 'moy', 'mdpl', 'mlye', 'ntml', 'mslh', 'vlg', 'mhs', 'xmv', 'mnly', 'mlmw', 'mmcl', 'kli', 'ap', 'pi', 'mylq', 'mah', 'mlju', 'mlif', 'kmk', 'qv', 'zmlq', 'ald', 'mvld', 'mtlu', 'nly', 'ud', 'mrh', 'nmh', 'ewml', 'tmy', 'ly', 'mznl', 'mgo', 'udl', 'tlz', 'mklj', 'emk', 'mlis', 'omy', 'xly', 'emtl', 'mlta', 'mtlr', 'oln', 'rmlo', 'mdlh', 'dd', 'mqcl', 'dtl', 'xmz', 'mue', 'mzt', 'mcpl', 'clx', 'mflo', 'mclm', 'vul', 'mpg', 'mhgl', 'mslv', 'mzz', 'xu', 'dmlq', 'qjl', 'mdlk', 'yj', 'glr', 'mqzl', 'ymtl', 'mdlo', 'vln', 'plv', 'eu', 'mzf', 'mvlm', 'tq', 'omd', 'hmyl', 'mtlb', 'mlmz', 'pmpl', 'mar', 'mlvk', 'kmgl', 'cmv', 'mrls', 'tel', 'mop', 'msb', 'qml', 'qgl', 'rzml', 'ztl', 'jlb', 'mltb', 'mmrl', 'eme', 'mfi', 'mye', 'imf', 'hal', 'wjml', 'kk', 'mcfl', 'impl', 'cle', 'mlbd', 'mqlx', 'mldq', 'mmw', 'sj', 'ihl', 'milk', 'frl', 'mil', 'mfql', 'mual', 'mghl', 'mdkl', 'mnf', 'mne', 'yl', 'xmtl', 'vnml', 'mlla', 'wy', 'mxlw', 'mclb', 'mlg', 'bmk', 'bxl', 'idml', 'mrg', 'emfl', 'fmzl', 'mpjl', 'mcw', 'lsl', 'ylx', 'mmj', 'kv', 'mqly', 'melo', 'qle', 'mhg', 'xmlm', 'oma', 'irl', 'sx', 'jk', 'kh', 'hle', 'cil', 'mlry', 'jlm', 'tmq', 'zmtl', 'mnil', 'ph', 'on', 'zle', 'bmlp', 'qxml', 'fcml', 'mdli', 'qmlp', 'dl', 'mwo', 'xmli', 'mlrs', 'mlsm', 'ulu', 'fmla', 'bms', 'daml', 'ymlu', 'hmp', 'ilt', 'mulu', 'pmtl', 'imbl', 'olt', 'mliq', 'pmlf', 'dmil', 'pmt', 'nmt', 'mliw', 'lfm', 'mluf', 'tls', 'hmlp', 'alx', 'mni', 'mngl', 'pbl', 'vmlg', 'xxml', 'chl', 'cpml', 'kg', 'mpx', 'mhfl', 'mulh', 'hmr', 'clm', 'tn', 'lmli', 'bdl', 'rmql', 'omgl', 'mys', 'mnlf', 'mlyw', 'mhhl', 'ldl', 'mflp', 'lmlw', 'mas', 'mtn', 'nxml', 'nmls', 'qmw', 'mlch', 'buml', 'cmd', 'mlee', 'elh', 'klp', 'rmel', 'mwlj', 'nln', 'wmlw', 'bpl', 'hmlh', 'mcls', 'omlh', 'yme', 'ywl', 'moj', 'cmrl', 'xmh', 'mpla', 'bkl', 'tmh', 'edml', 'imld', 'mdlq', 'kmlp', 'bmr', 'fmlm', 'cbml', 'ssml', 'xzml', 'reml', 'aiml', 'xq', 'bmlh', 'dlw', 'mvul', 'dln', 'tmyl', 'lmlk', 'cmi', 'mbel', 'amz', 'mfjl', 'ne', 'jmd', 'mltz', 'qmwl', 'mhlv', 'ime', 'ymj', 'mlth', 'mbi', 'ompl', 'mulx', 'rme', 'gpml', 'mum', 'pld', 'ambl', 'ymlr', 'plt', 'melw', 'gmq', 'vle', 'ulo', 'mlib', 'dmql', 'sh', 'rmn', 'dmk', 'nbl', 'lmlo', 'metl', 'xs', 'slw', 'srl', 'llo', 'smn', 'amzl', 'meol', 'mqr', 'smz', 'hla', 'mldp', 'gk', 'zpl', 'xmjl', 'ecl', 'ymln', 'tm', 'umnl', 'mjyl', 'qo', 'mnpl', 'rmls', 'mzb', 'mzh', 'mmlg', 'mgls', 'mem', 'fgml', 'mmpl', 'mxyl', 'mulk', 'mlec', 'blf', 'gmld', 'zlg', 'ymw', 'mrzl', 'lbml', 'jlml', 'l', 'qmvl', 'munl', 'rmlg', 'wme', 'nmlo', 'sfml', 'mlbk', 'bmpl', 'rcml', 'mht', 'imwl', 'igml', 'mylb', 'mcz', 'ta', 'uv', 'cmlo', 'mcvl', 'lmb', 'mon', 'ss', 'mapl', 'pol', 'mdvl', 'dmi', 'bzml', 'umlh', 'pmjl', 'ems', 'klml', 'umml', 'nmlh', 'mlzk', 'kmlx', 'mlva', 'tmb', 'leml', 'hmv', 'mldg', 'uqml', 'mmln', 'lmrl', 'pmm', 'alz', 'smlr', 'gmal', 'umw', 'imtl', 'asml', 'ble', 'mwvl', 'amel', 'mlxv', 'mlah', 'mrcl', 'mowl', 'gmg', 'umul', 'lgm', 'mkb', 'mhzl', 'fmt', 'mhn', 'fmg', 'omlj', 'hli', 'ocl', 'mljf', 'muk', 'kme', 'bmlk', 'teml', 'amdl', 'ua', 'mlsq', 'lmlf', 'pmlv', 'dol', 'mdly', 'cel', 'mqw', 'py', 'umn', 'tmm', 'mdk', 'nmx', 'mba', 'mpnl', 'ol', 'cml', 'or', 'ozml', 'mluz', 'wmo', 'eiml', 'mbl', 'mav', 'gy', 'vuml', 'ehl', 'mtnl', 'amlk', 'ux', 'mcil', 'mqf', 'xmlq', 'mvc', 'mzp', 'tbml', 'ayl', 'mklu', 'txl', 'imcl', 'cmla', 'sly', 'voml', 'mqlc', 'itml', 'mwli', 'sln', 'uol', 'mpgl', 'oeml', 'huml', 'cj', 'qql', 'ull', 'mphl', 'mto', 'qmk', 'qbml', 'nmlu', 'yli', 'ful', 'nmle', 'omll', 'bj', 'movl', 'nm', 'amq', 'jmlq', 'wbl', 'kqml', 'fr', 'tmlv', 'dmbl', 'kmel', 'rwml', 'mclc', 'molz', 'za', 'gmlk', 'mut', 'mlpj', 'qmyl', 'molf', 'my', 'maln', 'mmlt', 'mmal', 'smp', 'mlsn', 'mluk', 'rqml', 'rnml', 'amrl', 'mlhi', 'mkr', 'dmlr', 'mnjl', 'mxi', 'mmkl', 'maf', 'imlq', 'zmlj', 'umtl', 'mcyl', 'tmld', 'tmlp', 'wc', 'ilo', 'jmrl', 'cmlk', 'mbxl', 'tlk', 'etl', 'mlcd', 'gmlj', 'mmfl', 'mslb', 'blg', 'mblf', 'gdl', 'mlwl', 'kfl', 'mxb', 'cmlp', 'gmlm', 'fjml', 'mef', 'rln', 'fmly', 'aq', 'wlv', 'fmli', 'jmlw', 'mqlz', 'nmi', 'myfl', 'ys', 'mkql', 'mtql', 'kla', 'rnl', 'qlw', 'mxil', 'jnml', 'mbpl', 'fmv', 'jmlj', 'mels', 'omq', 'moa', 'dmlj', 'hml', 'ezml', 'mmx', 'mdgl', 'wmel', 'mnxl', 'lel', 'mllp', 'ovml', 'mlai', 'mmlb', 'mkl', 'tmlo', 'ylml', 'mgg', 'zwl', 'lmld', 'msel', 'zn', 'vmol', 'fq', 'gmli', 'miu', 'gx', 'lmd', 'bh', 'omhl', 'qlj', 'cmt', 'uvml', 'dls', 'umrl', 'mxal', 'feml'}\n"
     ]
    }
   ],
   "source": [
    "for word in M[2 : 3]:\n",
    "    print(edit_two_letters(word, allow_switches = True))"
   ]
  },
  {
   "cell_type": "markdown",
   "id": "f43bbb7c",
   "metadata": {},
   "source": [
    "### Correction"
   ]
  },
  {
   "cell_type": "code",
   "execution_count": 212,
   "id": "b37743e4",
   "metadata": {},
   "outputs": [],
   "source": [
    "def get_corrections(word, probs, vocab, n=2, verbose = False):\n",
    "    '''\n",
    "    Input: \n",
    "        word: a user entered string to check for suggestions\n",
    "        probs: a dictionary that maps each word to its probability in the corpus\n",
    "        vocab: a set containing all the vocabulary\n",
    "        n: number of possible word corrections you want returned in the dictionary\n",
    "    Output: \n",
    "        n_best: a list of tuples with the most probable n corrected words and their probabilities.\n",
    "    '''\n",
    "    \n",
    "    suggestions = []\n",
    "    n_best = []\n",
    "    \n",
    "        # Step 1: create suggestions as described above\n",
    "    # If the word is in the vocabulary, suggest the word itself.\n",
    "    if word in vocab:\n",
    "        suggestions = [word]\n",
    "    else:\n",
    "        # Otherwise, try getting suggestions from one edit away words.\n",
    "        one_edit_away = edit_one_letter(word)\n",
    "        two_edits_away = edit_two_letters(word)\n",
    "        \n",
    "        # Use set intersection to find suggestions in vocabulary\n",
    "        suggestions_one_edit = one_edit_away.intersection(vocab)\n",
    "        suggestions_two_edits = two_edits_away.intersection(vocab)\n",
    "        \n",
    "        # Logical 'or' to select the first non-empty set of suggestions\n",
    "        suggestions = (suggestions_one_edit or suggestions_two_edits or [word])\n",
    "                    \n",
    "    # Step 2: determine probability of suggestions\n",
    "    # Create a dictionary of suggestions with their probabilities\n",
    "    suggestions_probs = {suggestion: probs.get(suggestion, 0) for suggestion in suggestions}\n",
    "    \n",
    "    # Step 3: Get all your best words and return the most probable top n_suggested words as n_best\n",
    "    # Use the Counter object to find n most common words based on their probabilities\n",
    "    from collections import Counter\n",
    "    n_best = Counter(suggestions_probs).most_common(n)\n",
    "    \n",
    "    \n",
    "    if verbose: print(\"entered word = \", word, \"\\nsuggestions = \", suggestions)\n",
    "\n",
    "    return n_best"
   ]
  },
  {
   "cell_type": "code",
   "execution_count": 213,
   "id": "7ffe3abe",
   "metadata": {
    "scrolled": true
   },
   "outputs": [
    {
     "name": "stdout",
     "output_type": "stream",
     "text": [
      "entered word =  bu \n",
      "suggestions =  ['bu']\n",
      "entered word =  245 \n",
      "suggestions =  ['245']\n",
      "entered word =  ml \n",
      "suggestions =  ['ml']\n",
      "entered word =  gin \n",
      "suggestions =  {'gin'}\n",
      "entered word =  100 \n",
      "suggestions =  ['100']\n",
      "entered word =  ml \n",
      "suggestions =  ['ml']\n",
      "entered word =  liqeur \n",
      "suggestions =  {'liqueur'}\n",
      "entered word =  café \n",
      "suggestions =  {'cafe'}\n",
      "entered word =  350 \n",
      "suggestions =  ['350']\n",
      "entered word =  ml \n",
      "suggestions =  ['ml']\n",
      "entered word =  gan \n",
      "suggestions =  {'gin'}\n",
      "entered word =  200 \n",
      "suggestions =  ['200']\n",
      "entered word =  ml \n",
      "suggestions =  ['ml']\n",
      "entered word =  gni \n",
      "suggestions =  {'gin'}\n",
      "entered word =  455 \n",
      "suggestions =  ['455']\n",
      "entered word =  kg \n",
      "suggestions =  ['kg']\n",
      "entered word =  ligheur \n",
      "suggestions =  {'liqueur'}\n"
     ]
    }
   ],
   "source": [
    "\n",
    "for word in M:\n",
    "    get_corrections(word, probs, vocab, n=2, verbose = True)"
   ]
  },
  {
   "cell_type": "code",
   "execution_count": null,
   "id": "daf80a89",
   "metadata": {},
   "outputs": [],
   "source": []
  },
  {
   "cell_type": "code",
   "execution_count": null,
   "id": "6c6dfb8c",
   "metadata": {},
   "outputs": [],
   "source": []
  },
  {
   "cell_type": "code",
   "execution_count": null,
   "id": "2bf1fd2f",
   "metadata": {},
   "outputs": [],
   "source": []
  },
  {
   "cell_type": "code",
   "execution_count": null,
   "id": "7a15179a",
   "metadata": {},
   "outputs": [],
   "source": []
  },
  {
   "cell_type": "code",
   "execution_count": null,
   "id": "937725a7",
   "metadata": {},
   "outputs": [],
   "source": []
  },
  {
   "cell_type": "code",
   "execution_count": null,
   "id": "d17b8164",
   "metadata": {},
   "outputs": [],
   "source": []
  },
  {
   "cell_type": "code",
   "execution_count": null,
   "id": "ff23a43a",
   "metadata": {},
   "outputs": [],
   "source": []
  }
 ],
 "metadata": {
  "kernelspec": {
   "display_name": "Python 3 (ipykernel)",
   "language": "python",
   "name": "python3"
  },
  "language_info": {
   "codemirror_mode": {
    "name": "ipython",
    "version": 3
   },
   "file_extension": ".py",
   "mimetype": "text/x-python",
   "name": "python",
   "nbconvert_exporter": "python",
   "pygments_lexer": "ipython3",
   "version": "3.9.12"
  }
 },
 "nbformat": 4,
 "nbformat_minor": 5
}
